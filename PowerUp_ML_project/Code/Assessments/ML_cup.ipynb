{
 "cells": [
  {
   "cell_type": "code",
   "execution_count": 1,
   "metadata": {},
   "outputs": [],
   "source": [
    "%matplotlib inline\n",
    "\n",
    "import numpy as np\n",
    "import pandas as pd\n",
    "import matplotlib.pyplot as plt\n",
    "import warnings\n",
    "from sklearn.metrics import mean_squared_error"
   ]
  },
  {
   "cell_type": "code",
   "execution_count": 2,
   "metadata": {},
   "outputs": [],
   "source": [
    "warnings.simplefilter(\"ignore\")"
   ]
  },
  {
   "cell_type": "code",
   "execution_count": null,
   "metadata": {},
   "outputs": [],
   "source": [
    "from keras.models import load_model\n",
    "import keras.backend as K"
   ]
  },
  {
   "cell_type": "code",
   "execution_count": null,
   "metadata": {},
   "outputs": [],
   "source": [
    "def MEE_k(y_real, y_pred):\n",
    "     return K.mean(K.sqrt(K.sum(K.square(y_pred - y_real), axis=-1)))"
   ]
  },
  {
   "cell_type": "code",
   "execution_count": null,
   "metadata": {},
   "outputs": [],
   "source": [
    "model = load_model('../Models/Early_stopping_BEST.h5', \n",
    "                   custom_objects={'MEE_k': MEE_k})"
   ]
  },
  {
   "cell_type": "code",
   "execution_count": 3,
   "metadata": {},
   "outputs": [],
   "source": [
    "#Importing the dataset \n",
    "FILE_PATH = '../../data/ML-CUP22-TS.csv'\n",
    "df=pd.read_csv(FILE_PATH, skiprows=7, header=None)"
   ]
  },
  {
   "cell_type": "code",
   "execution_count": 8,
   "metadata": {},
   "outputs": [],
   "source": [
    "#df = df[[1, 2, 3, 4, 5, 6, 7, 8, 9]] # select the attributes "
   ]
  },
  {
   "cell_type": "code",
   "execution_count": 9,
   "metadata": {},
   "outputs": [
    {
     "data": {
      "text/html": [
       "<div>\n",
       "<style scoped>\n",
       "    .dataframe tbody tr th:only-of-type {\n",
       "        vertical-align: middle;\n",
       "    }\n",
       "\n",
       "    .dataframe tbody tr th {\n",
       "        vertical-align: top;\n",
       "    }\n",
       "\n",
       "    .dataframe thead th {\n",
       "        text-align: right;\n",
       "    }\n",
       "</style>\n",
       "<table border=\"1\" class=\"dataframe\">\n",
       "  <thead>\n",
       "    <tr style=\"text-align: right;\">\n",
       "      <th></th>\n",
       "      <th>1</th>\n",
       "      <th>2</th>\n",
       "      <th>3</th>\n",
       "      <th>4</th>\n",
       "      <th>5</th>\n",
       "      <th>6</th>\n",
       "      <th>7</th>\n",
       "      <th>8</th>\n",
       "      <th>9</th>\n",
       "    </tr>\n",
       "  </thead>\n",
       "  <tbody>\n",
       "    <tr>\n",
       "      <th>0</th>\n",
       "      <td>-1.295403</td>\n",
       "      <td>1.471468</td>\n",
       "      <td>-0.394740</td>\n",
       "      <td>0.982752</td>\n",
       "      <td>-1.287838</td>\n",
       "      <td>1.427106</td>\n",
       "      <td>-0.052994</td>\n",
       "      <td>0.890491</td>\n",
       "      <td>-1.258837</td>\n",
       "    </tr>\n",
       "    <tr>\n",
       "      <th>1</th>\n",
       "      <td>0.351257</td>\n",
       "      <td>-0.583818</td>\n",
       "      <td>1.673024</td>\n",
       "      <td>-1.045503</td>\n",
       "      <td>0.566956</td>\n",
       "      <td>-0.603433</td>\n",
       "      <td>0.417183</td>\n",
       "      <td>-0.516325</td>\n",
       "      <td>0.902252</td>\n",
       "    </tr>\n",
       "    <tr>\n",
       "      <th>2</th>\n",
       "      <td>0.076491</td>\n",
       "      <td>0.551166</td>\n",
       "      <td>0.157875</td>\n",
       "      <td>0.545169</td>\n",
       "      <td>-0.189986</td>\n",
       "      <td>0.876511</td>\n",
       "      <td>2.167689</td>\n",
       "      <td>0.621724</td>\n",
       "      <td>0.259727</td>\n",
       "    </tr>\n",
       "    <tr>\n",
       "      <th>3</th>\n",
       "      <td>-1.362116</td>\n",
       "      <td>1.111719</td>\n",
       "      <td>-0.593551</td>\n",
       "      <td>0.713629</td>\n",
       "      <td>-1.174274</td>\n",
       "      <td>1.767917</td>\n",
       "      <td>0.152496</td>\n",
       "      <td>1.152507</td>\n",
       "      <td>-0.851621</td>\n",
       "    </tr>\n",
       "    <tr>\n",
       "      <th>4</th>\n",
       "      <td>1.261212</td>\n",
       "      <td>-0.816557</td>\n",
       "      <td>-0.218964</td>\n",
       "      <td>-0.875395</td>\n",
       "      <td>0.518453</td>\n",
       "      <td>-0.854788</td>\n",
       "      <td>0.150214</td>\n",
       "      <td>-0.858207</td>\n",
       "      <td>1.426335</td>\n",
       "    </tr>\n",
       "  </tbody>\n",
       "</table>\n",
       "</div>"
      ],
      "text/plain": [
       "          1         2         3         4         5         6         7  \\\n",
       "0 -1.295403  1.471468 -0.394740  0.982752 -1.287838  1.427106 -0.052994   \n",
       "1  0.351257 -0.583818  1.673024 -1.045503  0.566956 -0.603433  0.417183   \n",
       "2  0.076491  0.551166  0.157875  0.545169 -0.189986  0.876511  2.167689   \n",
       "3 -1.362116  1.111719 -0.593551  0.713629 -1.174274  1.767917  0.152496   \n",
       "4  1.261212 -0.816557 -0.218964 -0.875395  0.518453 -0.854788  0.150214   \n",
       "\n",
       "          8         9  \n",
       "0  0.890491 -1.258837  \n",
       "1 -0.516325  0.902252  \n",
       "2  0.621724  0.259727  \n",
       "3  1.152507 -0.851621  \n",
       "4 -0.858207  1.426335  "
      ]
     },
     "execution_count": 9,
     "metadata": {},
     "output_type": "execute_result"
    }
   ],
   "source": [
    "df.head()"
   ]
  },
  {
   "cell_type": "code",
   "execution_count": null,
   "metadata": {},
   "outputs": [],
   "source": [
    "X_test=df.to_numpy()"
   ]
  },
  {
   "cell_type": "code",
   "execution_count": null,
   "metadata": {},
   "outputs": [],
   "source": [
    "y_pred=model.predict(X_test)"
   ]
  },
  {
   "cell_type": "code",
   "execution_count": null,
   "metadata": {},
   "outputs": [],
   "source": [
    "y_pred = pd.DataFrame(y_pred)"
   ]
  },
  {
   "cell_type": "code",
   "execution_count": null,
   "metadata": {},
   "outputs": [],
   "source": [
    "y_pred.to_csv(r'PowerUp_ML-CUP22-TS.csv')"
   ]
  }
 ],
 "metadata": {
  "kernelspec": {
   "display_name": "Python 3.7.4 32-bit",
   "language": "python",
   "name": "python3"
  },
  "language_info": {
   "codemirror_mode": {
    "name": "ipython",
    "version": 3
   },
   "file_extension": ".py",
   "mimetype": "text/x-python",
   "name": "python",
   "nbconvert_exporter": "python",
   "pygments_lexer": "ipython3",
   "version": "3.7.4"
  },
  "vscode": {
   "interpreter": {
    "hash": "43b5c63db261ca5051cb55de1c6286202162451824cb753635f4f1f1c93d73cc"
   }
  }
 },
 "nbformat": 4,
 "nbformat_minor": 4
}
