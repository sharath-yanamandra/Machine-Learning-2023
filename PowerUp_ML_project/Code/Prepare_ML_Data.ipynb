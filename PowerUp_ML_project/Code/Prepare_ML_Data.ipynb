{
 "cells": [
  {
   "cell_type": "code",
   "execution_count": 16,
   "metadata": {},
   "outputs": [],
   "source": [
    "%matplotlib inline\n",
    "\n",
    "import pandas as pd\n",
    "from sklearn.model_selection import train_test_split"
   ]
  },
  {
   "cell_type": "code",
   "execution_count": 17,
   "metadata": {},
   "outputs": [],
   "source": [
    "#Importing the dataset \n",
    "FILE_PATH = '../data/ML-CUP22-TR.csv'\n",
    "df=pd.read_csv(FILE_PATH, skiprows=7, header=None)"
   ]
  },
  {
   "cell_type": "code",
   "execution_count": 18,
   "metadata": {},
   "outputs": [
    {
     "data": {
      "text/html": [
       "<div>\n",
       "<style scoped>\n",
       "    .dataframe tbody tr th:only-of-type {\n",
       "        vertical-align: middle;\n",
       "    }\n",
       "\n",
       "    .dataframe tbody tr th {\n",
       "        vertical-align: top;\n",
       "    }\n",
       "\n",
       "    .dataframe thead th {\n",
       "        text-align: right;\n",
       "    }\n",
       "</style>\n",
       "<table border=\"1\" class=\"dataframe\">\n",
       "  <thead>\n",
       "    <tr style=\"text-align: right;\">\n",
       "      <th></th>\n",
       "      <th>0</th>\n",
       "      <th>1</th>\n",
       "      <th>2</th>\n",
       "      <th>3</th>\n",
       "      <th>4</th>\n",
       "      <th>5</th>\n",
       "      <th>6</th>\n",
       "      <th>7</th>\n",
       "      <th>8</th>\n",
       "      <th>9</th>\n",
       "      <th>10</th>\n",
       "      <th>11</th>\n",
       "    </tr>\n",
       "  </thead>\n",
       "  <tbody>\n",
       "    <tr>\n",
       "      <th>0</th>\n",
       "      <td>1</td>\n",
       "      <td>-1.704815</td>\n",
       "      <td>1.503106</td>\n",
       "      <td>-0.817083</td>\n",
       "      <td>1.353560</td>\n",
       "      <td>-1.293660</td>\n",
       "      <td>1.362608</td>\n",
       "      <td>0.217795</td>\n",
       "      <td>0.462728</td>\n",
       "      <td>-1.237246</td>\n",
       "      <td>22.222923</td>\n",
       "      <td>-27.036774</td>\n",
       "    </tr>\n",
       "    <tr>\n",
       "      <th>1</th>\n",
       "      <td>2</td>\n",
       "      <td>-0.888962</td>\n",
       "      <td>0.711473</td>\n",
       "      <td>-0.480023</td>\n",
       "      <td>0.748175</td>\n",
       "      <td>-0.981763</td>\n",
       "      <td>1.765482</td>\n",
       "      <td>-0.445018</td>\n",
       "      <td>1.719143</td>\n",
       "      <td>-1.096250</td>\n",
       "      <td>18.885520</td>\n",
       "      <td>-28.377440</td>\n",
       "    </tr>\n",
       "    <tr>\n",
       "      <th>2</th>\n",
       "      <td>3</td>\n",
       "      <td>1.143802</td>\n",
       "      <td>-1.591273</td>\n",
       "      <td>0.670477</td>\n",
       "      <td>-0.948551</td>\n",
       "      <td>1.075740</td>\n",
       "      <td>-0.908309</td>\n",
       "      <td>-0.694223</td>\n",
       "      <td>-1.321391</td>\n",
       "      <td>0.662656</td>\n",
       "      <td>4.587627</td>\n",
       "      <td>-18.507566</td>\n",
       "    </tr>\n",
       "    <tr>\n",
       "      <th>3</th>\n",
       "      <td>4</td>\n",
       "      <td>0.630938</td>\n",
       "      <td>-0.295533</td>\n",
       "      <td>1.379162</td>\n",
       "      <td>-0.041045</td>\n",
       "      <td>-0.250695</td>\n",
       "      <td>0.025003</td>\n",
       "      <td>0.143915</td>\n",
       "      <td>0.861455</td>\n",
       "      <td>0.879540</td>\n",
       "      <td>10.256820</td>\n",
       "      <td>-30.017064</td>\n",
       "    </tr>\n",
       "    <tr>\n",
       "      <th>4</th>\n",
       "      <td>5</td>\n",
       "      <td>1.799449</td>\n",
       "      <td>-0.913254</td>\n",
       "      <td>1.245698</td>\n",
       "      <td>-1.410940</td>\n",
       "      <td>0.653328</td>\n",
       "      <td>-0.677108</td>\n",
       "      <td>-0.667490</td>\n",
       "      <td>-0.849795</td>\n",
       "      <td>0.497977</td>\n",
       "      <td>4.916182</td>\n",
       "      <td>-17.670030</td>\n",
       "    </tr>\n",
       "  </tbody>\n",
       "</table>\n",
       "</div>"
      ],
      "text/plain": [
       "   0         1         2         3         4         5         6         7   \\\n",
       "0   1 -1.704815  1.503106 -0.817083  1.353560 -1.293660  1.362608  0.217795   \n",
       "1   2 -0.888962  0.711473 -0.480023  0.748175 -0.981763  1.765482 -0.445018   \n",
       "2   3  1.143802 -1.591273  0.670477 -0.948551  1.075740 -0.908309 -0.694223   \n",
       "3   4  0.630938 -0.295533  1.379162 -0.041045 -0.250695  0.025003  0.143915   \n",
       "4   5  1.799449 -0.913254  1.245698 -1.410940  0.653328 -0.677108 -0.667490   \n",
       "\n",
       "         8         9          10         11  \n",
       "0  0.462728 -1.237246  22.222923 -27.036774  \n",
       "1  1.719143 -1.096250  18.885520 -28.377440  \n",
       "2 -1.321391  0.662656   4.587627 -18.507566  \n",
       "3  0.861455  0.879540  10.256820 -30.017064  \n",
       "4 -0.849795  0.497977   4.916182 -17.670030  "
      ]
     },
     "execution_count": 18,
     "metadata": {},
     "output_type": "execute_result"
    }
   ],
   "source": [
    "df.head()"
   ]
  },
  {
   "cell_type": "code",
   "execution_count": 19,
   "metadata": {},
   "outputs": [],
   "source": [
    "X = df[[1, 2, 3, 4, 5, 6, 7, 8, 9]] # our attributes are from 1 to 9 in our dataset\n",
    "Y = df[[10, 11]] # our target is the last two columns 10 & 11"
   ]
  },
  {
   "cell_type": "code",
   "execution_count": 20,
   "metadata": {},
   "outputs": [],
   "source": [
    "X_dev, X_test, y_dev, y_test = train_test_split(X, Y, test_size=0.15, random_state=5)"
   ]
  },
  {
   "attachments": {},
   "cell_type": "markdown",
   "metadata": {},
   "source": [
    "## We check the size of both partitions"
   ]
  },
  {
   "cell_type": "code",
   "execution_count": 21,
   "metadata": {},
   "outputs": [
    {
     "name": "stdout",
     "output_type": "stream",
     "text": [
      "X_dev shape:\n",
      "(1268, 9)\n",
      "y_dev shape:\n",
      "(1268, 2)\n"
     ]
    }
   ],
   "source": [
    "print(\"X_dev shape:\")\n",
    "print(X_dev.shape)\n",
    "print(\"y_dev shape:\")\n",
    "print(y_dev.shape)"
   ]
  },
  {
   "cell_type": "code",
   "execution_count": 22,
   "metadata": {},
   "outputs": [
    {
     "name": "stdout",
     "output_type": "stream",
     "text": [
      "X_test shape:\n",
      "(224, 9)\n",
      "y_test shape:\n",
      "(224, 2)\n"
     ]
    }
   ],
   "source": [
    "print(\"X_test shape:\")\n",
    "print(X_test.shape)\n",
    "print(\"y_test shape:\")\n",
    "print(y_test.shape)"
   ]
  },
  {
   "cell_type": "code",
   "execution_count": 23,
   "metadata": {},
   "outputs": [],
   "source": [
    "X_dev.to_csv(r'../data/X_dev.csv', index = False)\n",
    "y_dev.to_csv(r'../data/y_dev.csv', index = False)\n",
    "X_test.to_csv(r'../data/X_test.csv', index = False)\n",
    "y_test.to_csv(r'../data/y_test.csv', index = False)"
   ]
  },
  {
   "cell_type": "code",
   "execution_count": null,
   "metadata": {},
   "outputs": [],
   "source": []
  }
 ],
 "metadata": {
  "kernelspec": {
   "display_name": "base",
   "language": "python",
   "name": "python3"
  },
  "language_info": {
   "codemirror_mode": {
    "name": "ipython",
    "version": 3
   },
   "file_extension": ".py",
   "mimetype": "text/x-python",
   "name": "python",
   "nbconvert_exporter": "python",
   "pygments_lexer": "ipython3",
   "version": "3.9.7"
  },
  "vscode": {
   "interpreter": {
    "hash": "25f291af9cc96aa992e7f01dfa5a310ec565b020d8d9b56cd755e29d17098662"
   }
  }
 },
 "nbformat": 4,
 "nbformat_minor": 4
}
