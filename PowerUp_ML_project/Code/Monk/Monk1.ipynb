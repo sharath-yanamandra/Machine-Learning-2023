{
 "cells": [
  {
   "cell_type": "code",
   "execution_count": 1,
   "metadata": {},
   "outputs": [],
   "source": [
    "import numpy as np\n",
    "from numpy import loadtxt\n",
    "import matplotlib.pyplot as plt\n",
    "import warnings\n",
    "from sklearn.model_selection import train_test_split\n",
    "from sklearn.metrics import mean_squared_error\n",
    "import pandas as pd"
   ]
  },
  {
   "cell_type": "code",
   "execution_count": 2,
   "metadata": {},
   "outputs": [],
   "source": [
    "warnings.simplefilter(\"ignore\")"
   ]
  },
  {
   "cell_type": "code",
   "execution_count": 3,
   "metadata": {},
   "outputs": [],
   "source": [
    "np.random.seed(1)"
   ]
  },
  {
   "cell_type": "code",
   "execution_count": 4,
   "metadata": {},
   "outputs": [
    {
     "name": "stderr",
     "output_type": "stream",
     "text": [
      "2022-12-29 12:17:39.573061: I tensorflow/core/platform/cpu_feature_guard.cc:193] This TensorFlow binary is optimized with oneAPI Deep Neural Network Library (oneDNN) to use the following CPU instructions in performance-critical operations:  AVX2 FMA\n",
      "To enable them in other operations, rebuild TensorFlow with the appropriate compiler flags.\n"
     ]
    }
   ],
   "source": [
    "from keras.models import Sequential\n",
    "from keras.callbacks import Callback\n",
    "from keras.layers import Dense\n",
    "from keras.regularizers import l2\n",
    "from keras.optimizers import SGD\n",
    "from keras.callbacks import EarlyStopping, ModelCheckpoint\n",
    "from keras.initializers import RandomUniform\n",
    "from sklearn.preprocessing import OneHotEncoder\n",
    "from keras.wrappers.scikit_learn import KerasClassifier\n",
    "from sklearn.model_selection import GridSearchCV"
   ]
  },
  {
   "cell_type": "code",
   "execution_count": 5,
   "metadata": {},
   "outputs": [],
   "source": [
    "train1 = loadtxt('../../data/monks-1.train',\n",
    "                         delimiter=' ', usecols=range(1, 8))\n",
    "test1 = loadtxt('../../data/monks-1.test',\n",
    "                        delimiter=' ', usecols=range(1, 8))"
   ]
  },
  {
   "cell_type": "code",
   "execution_count": 6,
   "metadata": {},
   "outputs": [],
   "source": [
    "X_train1=train1[:, 1:7]\n",
    "y_train1=train1[:, 0]\n",
    "\n",
    "X_test1=test1[:, 1:7]\n",
    "y_test1=test1[:, 0]"
   ]
  },
  {
   "cell_type": "code",
   "execution_count": 8,
   "metadata": {},
   "outputs": [],
   "source": [
    "enc=OneHotEncoder()"
   ]
  },
  {
   "cell_type": "code",
   "execution_count": 9,
   "metadata": {},
   "outputs": [],
   "source": [
    "X_train1=enc.fit_transform(X_train1).toarray()\n",
    "X_test1=enc.fit_transform(X_test1).toarray()"
   ]
  },
  {
   "cell_type": "code",
   "execution_count": 10,
   "metadata": {},
   "outputs": [],
   "source": [
    "def create_modelCV(lr=0.1, mom=0.1, act='relu'):\n",
    "    # create model\n",
    "    model = Sequential()\n",
    "    model.add(Dense(4, input_dim=17, \n",
    "                    kernel_initializer=RandomUniform(minval=-0.1, maxval=0.1, seed=1), \n",
    "                    activation=act,\n",
    "                    kernel_regularizer=l2(0.0001)\n",
    "                   ))\n",
    "    model.add(Dense(1, activation='sigmoid'))\n",
    "    # Compile model\n",
    "    model.compile(loss='mean_squared_error', metrics=['accuracy'], optimizer= SGD(lr=lr, momentum=mom, nesterov=False))\n",
    "    return model"
   ]
  },
  {
   "cell_type": "code",
   "execution_count": 24,
   "metadata": {
    "scrolled": true
   },
   "outputs": [
    {
     "name": "stdout",
     "output_type": "stream",
     "text": [
      "===================================\n"
     ]
    },
    {
     "name": "stderr",
     "output_type": "stream",
     "text": [
      "2022-12-29 12:47:05.030010: I tensorflow/core/platform/cpu_feature_guard.cc:193] This TensorFlow binary is optimized with oneAPI Deep Neural Network Library (oneDNN) to use the following CPU instructions in performance-critical operations:  AVX2 FMA\n",
      "To enable them in other operations, rebuild TensorFlow with the appropriate compiler flags.\n",
      "2022-12-29 12:47:05.030010: I tensorflow/core/platform/cpu_feature_guard.cc:193] This TensorFlow binary is optimized with oneAPI Deep Neural Network Library (oneDNN) to use the following CPU instructions in performance-critical operations:  AVX2 FMA\n",
      "To enable them in other operations, rebuild TensorFlow with the appropriate compiler flags.\n",
      "2022-12-29 12:47:17.755434: I tensorflow/core/platform/cpu_feature_guard.cc:193] This TensorFlow binary is optimized with oneAPI Deep Neural Network Library (oneDNN) to use the following CPU instructions in performance-critical operations:  AVX2 FMA\n",
      "To enable them in other operations, rebuild TensorFlow with the appropriate compiler flags.\n",
      "2022-12-29 12:47:17.755519: I tensorflow/core/platform/cpu_feature_guard.cc:193] This TensorFlow binary is optimized with oneAPI Deep Neural Network Library (oneDNN) to use the following CPU instructions in performance-critical operations:  AVX2 FMA\n",
      "To enable them in other operations, rebuild TensorFlow with the appropriate compiler flags.\n",
      "/Users/piyush/opt/anaconda3/lib/python3.9/site-packages/keras/optimizers/optimizer_v2/gradient_descent.py:114: UserWarning: The `lr` argument is deprecated, use `learning_rate` instead.\n",
      "  super().__init__(name, **kwargs)\n",
      "/Users/piyush/opt/anaconda3/lib/python3.9/site-packages/keras/optimizers/optimizer_v2/gradient_descent.py:114: UserWarning: The `lr` argument is deprecated, use `learning_rate` instead.\n",
      "  super().__init__(name, **kwargs)\n"
     ]
    },
    {
     "name": "stdout",
     "output_type": "stream",
     "text": [
      "Epoch 1/10\n",
      "Epoch 1/10\n",
      "4/4 - 2s - loss: 0.2439 - accuracy: 0.5854 - 2s/epoch - 504ms/step\n",
      "4/4 - 2s - loss: 0.2520 - accuracy: 0.5060 - 2s/epoch - 499ms/step\n",
      "Epoch 2/10\n",
      "Epoch 2/10\n",
      "4/4 - 0s - loss: 0.2515 - accuracy: 0.5060 - 80ms/epoch - 20ms/step\n",
      "4/4 - 0s - loss: 0.2431 - accuracy: 0.5854 - 79ms/epoch - 20ms/step\n",
      "Epoch 3/10\n",
      "Epoch 3/10\n",
      "4/4 - 0s - loss: 0.2425 - accuracy: 0.5854 - 54ms/epoch - 14ms/step\n",
      "4/4 - 0s - loss: 0.2502 - accuracy: 0.5060 - 56ms/epoch - 14ms/step\n",
      "Epoch 4/10\n",
      "Epoch 4/10\n",
      "4/4 - 0s - loss: 0.2494 - accuracy: 0.5060 - 16ms/epoch - 4ms/step\n",
      "4/4 - 0s - loss: 0.2416 - accuracy: 0.5854 - 19ms/epoch - 5ms/step\n",
      "Epoch 5/10\n",
      "Epoch 5/10\n",
      "4/4 - 0s - loss: 0.2408 - accuracy: 0.5854 - 17ms/epoch - 4ms/step\n",
      "4/4 - 0s - loss: 0.2492 - accuracy: 0.5060 - 17ms/epoch - 4ms/step\n",
      "Epoch 6/10\n",
      "Epoch 6/10\n",
      "4/4 - 0s - loss: 0.2487 - accuracy: 0.5060 - 17ms/epoch - 4ms/step\n",
      "Epoch 7/10\n",
      "4/4 - 0s - loss: 0.2399 - accuracy: 0.5854 - 22ms/epoch - 6ms/step\n",
      "Epoch 7/10\n",
      "4/4 - 0s - loss: 0.2478 - accuracy: 0.5060 - 17ms/epoch - 4ms/step\n",
      "Epoch 8/10\n",
      "4/4 - 0s - loss: 0.2400 - accuracy: 0.5854 - 22ms/epoch - 5ms/step\n",
      "Epoch 8/10\n",
      "4/4 - 0s - loss: 0.2476 - accuracy: 0.5060 - 20ms/epoch - 5ms/step\n",
      "Epoch 9/10\n",
      "4/4 - 0s - loss: 0.2386 - accuracy: 0.5854 - 14ms/epoch - 4ms/step\n",
      "Epoch 9/10\n",
      "4/4 - 0s - loss: 0.2471 - accuracy: 0.5060 - 19ms/epoch - 5ms/step\n",
      "Epoch 10/10\n",
      "4/4 - 0s - loss: 0.2379 - accuracy: 0.5854 - 35ms/epoch - 9ms/step\n",
      "Epoch 10/10\n",
      "4/4 - 0s - loss: 0.2466 - accuracy: 0.5060 - 25ms/epoch - 6ms/step\n",
      "4/4 - 0s - loss: 0.2370 - accuracy: 0.5854 - 16ms/epoch - 4ms/step\n",
      "2/2 [==============================] - 0s 2ms/step\n",
      "2/2 [==============================] - 0s 3ms/step\n"
     ]
    },
    {
     "name": "stderr",
     "output_type": "stream",
     "text": [
      "/Users/piyush/opt/anaconda3/lib/python3.9/site-packages/keras/optimizers/optimizer_v2/gradient_descent.py:114: UserWarning: The `lr` argument is deprecated, use `learning_rate` instead.\n",
      "  super().__init__(name, **kwargs)\n",
      "/Users/piyush/opt/anaconda3/lib/python3.9/site-packages/keras/optimizers/optimizer_v2/gradient_descent.py:114: UserWarning: The `lr` argument is deprecated, use `learning_rate` instead.\n",
      "  super().__init__(name, **kwargs)\n"
     ]
    },
    {
     "name": "stdout",
     "output_type": "stream",
     "text": [
      "Epoch 1/10\n",
      "Epoch 1/10\n",
      "4/4 - 1s - loss: 0.3400 - accuracy: 0.4096 - 1s/epoch - 320ms/step\n",
      "Epoch 2/10\n",
      "4/4 - 0s - loss: 0.3244 - accuracy: 0.4096 - 21ms/epoch - 5ms/step\n",
      "Epoch 3/10\n",
      "4/4 - 0s - loss: 0.3103 - accuracy: 0.4096 - 47ms/epoch - 12ms/step\n",
      "4/4 - 1s - loss: 0.2406 - accuracy: 0.5854 - 1s/epoch - 337ms/step\n",
      "Epoch 2/10\n",
      "Epoch 4/10\n",
      "4/4 - 0s - loss: 0.2972 - accuracy: 0.4096 - 53ms/epoch - 13ms/step\n",
      "Epoch 5/10\n",
      "4/4 - 0s - loss: 0.2402 - accuracy: 0.5854 - 55ms/epoch - 14ms/step\n",
      "Epoch 3/10\n",
      "4/4 - 0s - loss: 0.2395 - accuracy: 0.5854 - 29ms/epoch - 7ms/step\n",
      "Epoch 4/10\n",
      "4/4 - 0s - loss: 0.2877 - accuracy: 0.4096 - 41ms/epoch - 10ms/step\n",
      "Epoch 6/10\n",
      "4/4 - 0s - loss: 0.2384 - accuracy: 0.5854 - 20ms/epoch - 5ms/step\n",
      "Epoch 5/10\n",
      "4/4 - 0s - loss: 0.2798 - accuracy: 0.4096 - 28ms/epoch - 7ms/step\n",
      "Epoch 7/10\n",
      "4/4 - 0s - loss: 0.2373 - accuracy: 0.5854 - 18ms/epoch - 4ms/step\n",
      "Epoch 6/10\n",
      "4/4 - 0s - loss: 0.2718 - accuracy: 0.4096 - 25ms/epoch - 6ms/step\n",
      "4/4 - 0s - loss: 0.2369 - accuracy: 0.5854 - 22ms/epoch - 6ms/step\n",
      "Epoch 8/10\n",
      "Epoch 7/10\n",
      "4/4 - 0s - loss: 0.2657 - accuracy: 0.4096 - 25ms/epoch - 6ms/step\n",
      "Epoch 9/10\n",
      "4/4 - 0s - loss: 0.2609 - accuracy: 0.4096 - 28ms/epoch - 7ms/step\n",
      "4/4 - 0s - loss: 0.2364 - accuracy: 0.5854 - 57ms/epoch - 14ms/step\n",
      "Epoch 10/10\n",
      "Epoch 8/10\n",
      "4/4 - 0s - loss: 0.2564 - accuracy: 0.4096 - 26ms/epoch - 7ms/step\n",
      "4/4 - 0s - loss: 0.2356 - accuracy: 0.5854 - 38ms/epoch - 9ms/step\n",
      "Epoch 9/10\n",
      "4/4 - 0s - loss: 0.2346 - accuracy: 0.5854 - 26ms/epoch - 6ms/step\n",
      "Epoch 10/10\n",
      "4/4 - 0s - loss: 0.2342 - accuracy: 0.5854 - 13ms/epoch - 3ms/step\n",
      "2/2 [==============================] - 0s 5ms/step\n",
      "2/2 [==============================] - 0s 13ms/step\n"
     ]
    },
    {
     "name": "stderr",
     "output_type": "stream",
     "text": [
      "/Users/piyush/opt/anaconda3/lib/python3.9/site-packages/keras/optimizers/optimizer_v2/gradient_descent.py:114: UserWarning: The `lr` argument is deprecated, use `learning_rate` instead.\n",
      "  super().__init__(name, **kwargs)\n",
      "/Users/piyush/opt/anaconda3/lib/python3.9/site-packages/keras/optimizers/optimizer_v2/gradient_descent.py:114: UserWarning: The `lr` argument is deprecated, use `learning_rate` instead.\n",
      "  super().__init__(name, **kwargs)\n"
     ]
    },
    {
     "name": "stdout",
     "output_type": "stream",
     "text": [
      "Epoch 1/10\n",
      "Epoch 1/10\n",
      "4/4 - 2s - loss: 0.2536 - accuracy: 0.4940 - 2s/epoch - 401ms/step\n",
      "Epoch 2/10\n",
      "4/4 - 0s - loss: 0.2518 - accuracy: 0.4940 - 25ms/epoch - 6ms/step\n",
      "Epoch 3/10\n",
      "4/4 - 0s - loss: 0.2506 - accuracy: 0.4940 - 35ms/epoch - 9ms/step\n",
      "Epoch 4/10\n",
      "4/4 - 0s - loss: 0.2495 - accuracy: 0.4940 - 10ms/epoch - 2ms/step\n",
      "Epoch 5/10\n",
      "4/4 - 0s - loss: 0.2488 - accuracy: 0.4940 - 33ms/epoch - 8ms/step\n",
      "Epoch 6/10\n",
      "4/4 - 2s - loss: 0.2471 - accuracy: 0.5904 - 2s/epoch - 384ms/step\n",
      "Epoch 2/10\n",
      "4/4 - 0s - loss: 0.2476 - accuracy: 0.4940 - 37ms/epoch - 9ms/step\n",
      "Epoch 7/10\n",
      "4/4 - 0s - loss: 0.2460 - accuracy: 0.5904 - 35ms/epoch - 9ms/step\n",
      "Epoch 3/10\n",
      "4/4 - 0s - loss: 0.2462 - accuracy: 0.4940 - 29ms/epoch - 7ms/step\n",
      "Epoch 8/10\n",
      "4/4 - 0s - loss: 0.2452 - accuracy: 0.5904 - 39ms/epoch - 10ms/step\n",
      "Epoch 4/10\n",
      "4/4 - 0s - loss: 0.2456 - accuracy: 0.5060 - 37ms/epoch - 9ms/step\n",
      "Epoch 9/10\n",
      "4/4 - 0s - loss: 0.2451 - accuracy: 0.5181 - 54ms/epoch - 14ms/step\n",
      "Epoch 10/10\n",
      "4/4 - 0s - loss: 0.2436 - accuracy: 0.5904 - 60ms/epoch - 15ms/step\n",
      "Epoch 5/10\n",
      "4/4 - 0s - loss: 0.2439 - accuracy: 0.6386 - 52ms/epoch - 13ms/step\n",
      "4/4 - 0s - loss: 0.2428 - accuracy: 0.5904 - 49ms/epoch - 12ms/step\n",
      "Epoch 6/10\n",
      "4/4 - 0s - loss: 0.2425 - accuracy: 0.5904 - 15ms/epoch - 4ms/step\n",
      "Epoch 7/10\n",
      "4/4 - 0s - loss: 0.2419 - accuracy: 0.5904 - 14ms/epoch - 3ms/step\n",
      "Epoch 8/10\n",
      "4/4 - 0s - loss: 0.2418 - accuracy: 0.5904 - 32ms/epoch - 8ms/step\n",
      "Epoch 9/10\n",
      "4/4 - 0s - loss: 0.2410 - accuracy: 0.5904 - 12ms/epoch - 3ms/step\n",
      "Epoch 10/10\n",
      "4/4 - 0s - loss: 0.2407 - accuracy: 0.5904 - 33ms/epoch - 8ms/step\n",
      "2/2 [==============================] - 0s 4ms/step\n"
     ]
    },
    {
     "name": "stderr",
     "output_type": "stream",
     "text": [
      "/Users/piyush/opt/anaconda3/lib/python3.9/site-packages/keras/optimizers/optimizer_v2/gradient_descent.py:114: UserWarning: The `lr` argument is deprecated, use `learning_rate` instead.\n",
      "  super().__init__(name, **kwargs)\n"
     ]
    },
    {
     "name": "stdout",
     "output_type": "stream",
     "text": [
      "2/2 [==============================] - 0s 4ms/step\n"
     ]
    },
    {
     "name": "stderr",
     "output_type": "stream",
     "text": [
      "/Users/piyush/opt/anaconda3/lib/python3.9/site-packages/keras/optimizers/optimizer_v2/gradient_descent.py:114: UserWarning: The `lr` argument is deprecated, use `learning_rate` instead.\n",
      "  super().__init__(name, **kwargs)\n"
     ]
    },
    {
     "name": "stdout",
     "output_type": "stream",
     "text": [
      "Epoch 1/10\n",
      "Epoch 1/10\n",
      "4/4 - 2s - loss: 0.2948 - accuracy: 0.4146 - 2s/epoch - 393ms/step\n",
      "Epoch 2/10\n",
      "4/4 - 0s - loss: 0.2802 - accuracy: 0.4146 - 62ms/epoch - 15ms/step\n",
      "Epoch 3/10\n",
      "4/4 - 2s - loss: 0.2738 - accuracy: 0.5060 - 2s/epoch - 389ms/step\n",
      "Epoch 2/10\n",
      "4/4 - 0s - loss: 0.2665 - accuracy: 0.4146 - 26ms/epoch - 6ms/step\n",
      "Epoch 4/10\n",
      "4/4 - 0s - loss: 0.2670 - accuracy: 0.5060 - 16ms/epoch - 4ms/step\n",
      "Epoch 3/10\n",
      "4/4 - 0s - loss: 0.2578 - accuracy: 0.4146 - 13ms/epoch - 3ms/step\n",
      "Epoch 5/10\n",
      "4/4 - 0s - loss: 0.2621 - accuracy: 0.5060 - 22ms/epoch - 5ms/step\n",
      "4/4 - 0s - loss: 0.2506 - accuracy: 0.4146 - 19ms/epoch - 5ms/step\n",
      "Epoch 4/10\n",
      "Epoch 6/10\n",
      "4/4 - 0s - loss: 0.2583 - accuracy: 0.5060 - 21ms/epoch - 5ms/step\n",
      "4/4 - 0s - loss: 0.2467 - accuracy: 0.4634 - 25ms/epoch - 6ms/step\n",
      "Epoch 5/10\n",
      "Epoch 7/10\n",
      "4/4 - 0s - loss: 0.2436 - accuracy: 0.7805 - 19ms/epoch - 5ms/step\n",
      "4/4 - 0s - loss: 0.2557 - accuracy: 0.5060 - 21ms/epoch - 5ms/step\n",
      "Epoch 8/10\n",
      "Epoch 6/10\n",
      "4/4 - 0s - loss: 0.2405 - accuracy: 0.7439 - 17ms/epoch - 4ms/step\n",
      "Epoch 9/10\n",
      "4/4 - 0s - loss: 0.2535 - accuracy: 0.5060 - 19ms/epoch - 5ms/step\n",
      "Epoch 7/10\n",
      "4/4 - 0s - loss: 0.2392 - accuracy: 0.7439 - 30ms/epoch - 8ms/step\n",
      "Epoch 10/10\n",
      "4/4 - 0s - loss: 0.2520 - accuracy: 0.5060 - 33ms/epoch - 8ms/step\n",
      "Epoch 8/10\n",
      "4/4 - 0s - loss: 0.2368 - accuracy: 0.5854 - 23ms/epoch - 6ms/step\n",
      "4/4 - 0s - loss: 0.2500 - accuracy: 0.5060 - 21ms/epoch - 5ms/step\n",
      "Epoch 9/10\n",
      "4/4 - 0s - loss: 0.2483 - accuracy: 0.5060 - 57ms/epoch - 14ms/step\n",
      "Epoch 10/10\n",
      "4/4 - 0s - loss: 0.2475 - accuracy: 0.5060 - 22ms/epoch - 6ms/step\n",
      "2/2 [==============================] - 0s 3ms/step\n",
      "2/2 [==============================] - 0s 11ms/step\n"
     ]
    },
    {
     "name": "stderr",
     "output_type": "stream",
     "text": [
      "/Users/piyush/opt/anaconda3/lib/python3.9/site-packages/keras/optimizers/optimizer_v2/gradient_descent.py:114: UserWarning: The `lr` argument is deprecated, use `learning_rate` instead.\n",
      "  super().__init__(name, **kwargs)\n",
      "/Users/piyush/opt/anaconda3/lib/python3.9/site-packages/keras/optimizers/optimizer_v2/gradient_descent.py:114: UserWarning: The `lr` argument is deprecated, use `learning_rate` instead.\n",
      "  super().__init__(name, **kwargs)\n"
     ]
    },
    {
     "name": "stdout",
     "output_type": "stream",
     "text": [
      "Epoch 1/10\n",
      "Epoch 1/10\n",
      "4/4 - 3s - loss: 0.2511 - accuracy: 0.5904 - 3s/epoch - 630ms/step\n",
      "Epoch 2/10\n",
      "4/4 - 3s - loss: 0.2738 - accuracy: 0.4146 - 3s/epoch - 645ms/step\n",
      "4/4 - 0s - loss: 0.2495 - accuracy: 0.5904 - 65ms/epoch - 16ms/step\n",
      "Epoch 2/10\n",
      "Epoch 3/10\n",
      "4/4 - 0s - loss: 0.2479 - accuracy: 0.5904 - 17ms/epoch - 4ms/step\n",
      "4/4 - 0s - loss: 0.2636 - accuracy: 0.4146 - 18ms/epoch - 5ms/step\n",
      "Epoch 3/10\n",
      "Epoch 4/10\n",
      "4/4 - 0s - loss: 0.2561 - accuracy: 0.4146 - 18ms/epoch - 5ms/step\n",
      "4/4 - 0s - loss: 0.2465 - accuracy: 0.5904 - 23ms/epoch - 6ms/step\n",
      "Epoch 5/10\n",
      "Epoch 4/10\n",
      "4/4 - 0s - loss: 0.2457 - accuracy: 0.5904 - 20ms/epoch - 5ms/step\n",
      "4/4 - 0s - loss: 0.2504 - accuracy: 0.5366 - 23ms/epoch - 6ms/step\n",
      "Epoch 6/10\n",
      "Epoch 5/10\n",
      "4/4 - 0s - loss: 0.2437 - accuracy: 0.5904 - 14ms/epoch - 3ms/step\n",
      "Epoch 7/10\n",
      "4/4 - 0s - loss: 0.2468 - accuracy: 0.5854 - 18ms/epoch - 4ms/step\n",
      "Epoch 6/10\n",
      "4/4 - 0s - loss: 0.2452 - accuracy: 0.5854 - 18ms/epoch - 5ms/step\n",
      "4/4 - 0s - loss: 0.2432 - accuracy: 0.5904 - 29ms/epoch - 7ms/step\n",
      "Epoch 7/10\n",
      "Epoch 8/10\n",
      "4/4 - 0s - loss: 0.2436 - accuracy: 0.5854 - 14ms/epoch - 3ms/step\n",
      "Epoch 8/10\n",
      "4/4 - 0s - loss: 0.2430 - accuracy: 0.5904 - 26ms/epoch - 6ms/step\n",
      "Epoch 9/10\n",
      "4/4 - 0s - loss: 0.2424 - accuracy: 0.5854 - 18ms/epoch - 5ms/step\n",
      "Epoch 9/10\n",
      "4/4 - 0s - loss: 0.2427 - accuracy: 0.5904 - 18ms/epoch - 5ms/step\n",
      "Epoch 10/10\n",
      "4/4 - 0s - loss: 0.2412 - accuracy: 0.5854 - 19ms/epoch - 5ms/step\n",
      "Epoch 10/10\n",
      "4/4 - 0s - loss: 0.2422 - accuracy: 0.5904 - 15ms/epoch - 4ms/step\n",
      "4/4 - 0s - loss: 0.2407 - accuracy: 0.5854 - 17ms/epoch - 4ms/step\n",
      "2/2 [==============================] - 0s 3ms/step\n",
      "2/2 [==============================] - 0s 6ms/step\n"
     ]
    },
    {
     "name": "stderr",
     "output_type": "stream",
     "text": [
      "WARNING:tensorflow:5 out of the last 9 calls to <function Model.make_predict_function.<locals>.predict_function at 0x7fc4475d1160> triggered tf.function retracing. Tracing is expensive and the excessive number of tracings could be due to (1) creating @tf.function repeatedly in a loop, (2) passing tensors with different shapes, (3) passing Python objects instead of tensors. For (1), please define your @tf.function outside of the loop. For (2), @tf.function has reduce_retracing=True option that can avoid unnecessary retracing. For (3), please refer to https://www.tensorflow.org/guide/function#controlling_retracing and https://www.tensorflow.org/api_docs/python/tf/function for  more details.\n",
      "WARNING:tensorflow:5 out of the last 9 calls to <function Model.make_predict_function.<locals>.predict_function at 0x7fc6bbdd11f0> triggered tf.function retracing. Tracing is expensive and the excessive number of tracings could be due to (1) creating @tf.function repeatedly in a loop, (2) passing tensors with different shapes, (3) passing Python objects instead of tensors. For (1), please define your @tf.function outside of the loop. For (2), @tf.function has reduce_retracing=True option that can avoid unnecessary retracing. For (3), please refer to https://www.tensorflow.org/guide/function#controlling_retracing and https://www.tensorflow.org/api_docs/python/tf/function for  more details.\n",
      "/Users/piyush/opt/anaconda3/lib/python3.9/site-packages/keras/optimizers/optimizer_v2/gradient_descent.py:114: UserWarning: The `lr` argument is deprecated, use `learning_rate` instead.\n",
      "  super().__init__(name, **kwargs)\n",
      "/Users/piyush/opt/anaconda3/lib/python3.9/site-packages/keras/optimizers/optimizer_v2/gradient_descent.py:114: UserWarning: The `lr` argument is deprecated, use `learning_rate` instead.\n",
      "  super().__init__(name, **kwargs)\n"
     ]
    },
    {
     "name": "stdout",
     "output_type": "stream",
     "text": [
      "Epoch 1/10\n",
      "Epoch 1/10\n"
     ]
    },
    {
     "ename": "KeyboardInterrupt",
     "evalue": "",
     "output_type": "error",
     "traceback": [
      "\u001b[0;31m---------------------------------------------------------------------------\u001b[0m",
      "\u001b[0;31mKeyboardInterrupt\u001b[0m                         Traceback (most recent call last)",
      "\u001b[0;32m/var/folders/cr/cspt5tz93w7cqfslq2qjbg_c0000gn/T/ipykernel_15684/1652180295.py\u001b[0m in \u001b[0;36m<module>\u001b[0;34m\u001b[0m\n\u001b[1;32m     12\u001b[0m mlpr = GridSearchCV( model\n\u001b[1;32m     13\u001b[0m                     , hyper_params_space, scoring=['accuracy'], refit='accuracy', cv=3, n_jobs=2)\n\u001b[0;32m---> 14\u001b[0;31m \u001b[0mmlpr\u001b[0m\u001b[0;34m.\u001b[0m\u001b[0mfit\u001b[0m\u001b[0;34m(\u001b[0m\u001b[0mX_train1\u001b[0m\u001b[0;34m,\u001b[0m \u001b[0my_train1\u001b[0m\u001b[0;34m)\u001b[0m\u001b[0;34m\u001b[0m\u001b[0;34m\u001b[0m\u001b[0m\n\u001b[0m\u001b[1;32m     15\u001b[0m \u001b[0mprint\u001b[0m\u001b[0;34m(\u001b[0m\u001b[0;34m\"DONE\"\u001b[0m\u001b[0;34m)\u001b[0m\u001b[0;34m\u001b[0m\u001b[0;34m\u001b[0m\u001b[0m\n\u001b[1;32m     16\u001b[0m \u001b[0mresultGSCV\u001b[0m\u001b[0;34m=\u001b[0m\u001b[0mpd\u001b[0m\u001b[0;34m.\u001b[0m\u001b[0mDataFrame\u001b[0m\u001b[0;34m(\u001b[0m\u001b[0mmlpr\u001b[0m\u001b[0;34m.\u001b[0m\u001b[0mcv_results_\u001b[0m\u001b[0;34m)\u001b[0m\u001b[0;34m\u001b[0m\u001b[0;34m\u001b[0m\u001b[0m\n",
      "\u001b[0;32m~/opt/anaconda3/lib/python3.9/site-packages/sklearn/utils/validation.py\u001b[0m in \u001b[0;36minner_f\u001b[0;34m(*args, **kwargs)\u001b[0m\n\u001b[1;32m     61\u001b[0m             \u001b[0mextra_args\u001b[0m \u001b[0;34m=\u001b[0m \u001b[0mlen\u001b[0m\u001b[0;34m(\u001b[0m\u001b[0margs\u001b[0m\u001b[0;34m)\u001b[0m \u001b[0;34m-\u001b[0m \u001b[0mlen\u001b[0m\u001b[0;34m(\u001b[0m\u001b[0mall_args\u001b[0m\u001b[0;34m)\u001b[0m\u001b[0;34m\u001b[0m\u001b[0;34m\u001b[0m\u001b[0m\n\u001b[1;32m     62\u001b[0m             \u001b[0;32mif\u001b[0m \u001b[0mextra_args\u001b[0m \u001b[0;34m<=\u001b[0m \u001b[0;36m0\u001b[0m\u001b[0;34m:\u001b[0m\u001b[0;34m\u001b[0m\u001b[0;34m\u001b[0m\u001b[0m\n\u001b[0;32m---> 63\u001b[0;31m                 \u001b[0;32mreturn\u001b[0m \u001b[0mf\u001b[0m\u001b[0;34m(\u001b[0m\u001b[0;34m*\u001b[0m\u001b[0margs\u001b[0m\u001b[0;34m,\u001b[0m \u001b[0;34m**\u001b[0m\u001b[0mkwargs\u001b[0m\u001b[0;34m)\u001b[0m\u001b[0;34m\u001b[0m\u001b[0;34m\u001b[0m\u001b[0m\n\u001b[0m\u001b[1;32m     64\u001b[0m \u001b[0;34m\u001b[0m\u001b[0m\n\u001b[1;32m     65\u001b[0m             \u001b[0;31m# extra_args > 0\u001b[0m\u001b[0;34m\u001b[0m\u001b[0;34m\u001b[0m\u001b[0m\n",
      "\u001b[0;32m~/opt/anaconda3/lib/python3.9/site-packages/sklearn/model_selection/_search.py\u001b[0m in \u001b[0;36mfit\u001b[0;34m(self, X, y, groups, **fit_params)\u001b[0m\n\u001b[1;32m    839\u001b[0m                 \u001b[0;32mreturn\u001b[0m \u001b[0mresults\u001b[0m\u001b[0;34m\u001b[0m\u001b[0;34m\u001b[0m\u001b[0m\n\u001b[1;32m    840\u001b[0m \u001b[0;34m\u001b[0m\u001b[0m\n\u001b[0;32m--> 841\u001b[0;31m             \u001b[0mself\u001b[0m\u001b[0;34m.\u001b[0m\u001b[0m_run_search\u001b[0m\u001b[0;34m(\u001b[0m\u001b[0mevaluate_candidates\u001b[0m\u001b[0;34m)\u001b[0m\u001b[0;34m\u001b[0m\u001b[0;34m\u001b[0m\u001b[0m\n\u001b[0m\u001b[1;32m    842\u001b[0m \u001b[0;34m\u001b[0m\u001b[0m\n\u001b[1;32m    843\u001b[0m             \u001b[0;31m# multimetric is determined here because in the case of a callable\u001b[0m\u001b[0;34m\u001b[0m\u001b[0;34m\u001b[0m\u001b[0m\n",
      "\u001b[0;32m~/opt/anaconda3/lib/python3.9/site-packages/sklearn/model_selection/_search.py\u001b[0m in \u001b[0;36m_run_search\u001b[0;34m(self, evaluate_candidates)\u001b[0m\n\u001b[1;32m   1294\u001b[0m     \u001b[0;32mdef\u001b[0m \u001b[0m_run_search\u001b[0m\u001b[0;34m(\u001b[0m\u001b[0mself\u001b[0m\u001b[0;34m,\u001b[0m \u001b[0mevaluate_candidates\u001b[0m\u001b[0;34m)\u001b[0m\u001b[0;34m:\u001b[0m\u001b[0;34m\u001b[0m\u001b[0;34m\u001b[0m\u001b[0m\n\u001b[1;32m   1295\u001b[0m         \u001b[0;34m\"\"\"Search all candidates in param_grid\"\"\"\u001b[0m\u001b[0;34m\u001b[0m\u001b[0;34m\u001b[0m\u001b[0m\n\u001b[0;32m-> 1296\u001b[0;31m         \u001b[0mevaluate_candidates\u001b[0m\u001b[0;34m(\u001b[0m\u001b[0mParameterGrid\u001b[0m\u001b[0;34m(\u001b[0m\u001b[0mself\u001b[0m\u001b[0;34m.\u001b[0m\u001b[0mparam_grid\u001b[0m\u001b[0;34m)\u001b[0m\u001b[0;34m)\u001b[0m\u001b[0;34m\u001b[0m\u001b[0;34m\u001b[0m\u001b[0m\n\u001b[0m\u001b[1;32m   1297\u001b[0m \u001b[0;34m\u001b[0m\u001b[0m\n\u001b[1;32m   1298\u001b[0m \u001b[0;34m\u001b[0m\u001b[0m\n",
      "\u001b[0;32m~/opt/anaconda3/lib/python3.9/site-packages/sklearn/model_selection/_search.py\u001b[0m in \u001b[0;36mevaluate_candidates\u001b[0;34m(candidate_params, cv, more_results)\u001b[0m\n\u001b[1;32m    793\u001b[0m                               n_splits, n_candidates, n_candidates * n_splits))\n\u001b[1;32m    794\u001b[0m \u001b[0;34m\u001b[0m\u001b[0m\n\u001b[0;32m--> 795\u001b[0;31m                 out = parallel(delayed(_fit_and_score)(clone(base_estimator),\n\u001b[0m\u001b[1;32m    796\u001b[0m                                                        \u001b[0mX\u001b[0m\u001b[0;34m,\u001b[0m \u001b[0my\u001b[0m\u001b[0;34m,\u001b[0m\u001b[0;34m\u001b[0m\u001b[0;34m\u001b[0m\u001b[0m\n\u001b[1;32m    797\u001b[0m                                                        \u001b[0mtrain\u001b[0m\u001b[0;34m=\u001b[0m\u001b[0mtrain\u001b[0m\u001b[0;34m,\u001b[0m \u001b[0mtest\u001b[0m\u001b[0;34m=\u001b[0m\u001b[0mtest\u001b[0m\u001b[0;34m,\u001b[0m\u001b[0;34m\u001b[0m\u001b[0;34m\u001b[0m\u001b[0m\n",
      "\u001b[0;32m~/opt/anaconda3/lib/python3.9/site-packages/joblib/parallel.py\u001b[0m in \u001b[0;36m__call__\u001b[0;34m(self, iterable)\u001b[0m\n\u001b[1;32m   1054\u001b[0m \u001b[0;34m\u001b[0m\u001b[0m\n\u001b[1;32m   1055\u001b[0m             \u001b[0;32mwith\u001b[0m \u001b[0mself\u001b[0m\u001b[0;34m.\u001b[0m\u001b[0m_backend\u001b[0m\u001b[0;34m.\u001b[0m\u001b[0mretrieval_context\u001b[0m\u001b[0;34m(\u001b[0m\u001b[0;34m)\u001b[0m\u001b[0;34m:\u001b[0m\u001b[0;34m\u001b[0m\u001b[0;34m\u001b[0m\u001b[0m\n\u001b[0;32m-> 1056\u001b[0;31m                 \u001b[0mself\u001b[0m\u001b[0;34m.\u001b[0m\u001b[0mretrieve\u001b[0m\u001b[0;34m(\u001b[0m\u001b[0;34m)\u001b[0m\u001b[0;34m\u001b[0m\u001b[0;34m\u001b[0m\u001b[0m\n\u001b[0m\u001b[1;32m   1057\u001b[0m             \u001b[0;31m# Make sure that we get a last message telling us we are done\u001b[0m\u001b[0;34m\u001b[0m\u001b[0;34m\u001b[0m\u001b[0m\n\u001b[1;32m   1058\u001b[0m             \u001b[0melapsed_time\u001b[0m \u001b[0;34m=\u001b[0m \u001b[0mtime\u001b[0m\u001b[0;34m.\u001b[0m\u001b[0mtime\u001b[0m\u001b[0;34m(\u001b[0m\u001b[0;34m)\u001b[0m \u001b[0;34m-\u001b[0m \u001b[0mself\u001b[0m\u001b[0;34m.\u001b[0m\u001b[0m_start_time\u001b[0m\u001b[0;34m\u001b[0m\u001b[0;34m\u001b[0m\u001b[0m\n",
      "\u001b[0;32m~/opt/anaconda3/lib/python3.9/site-packages/joblib/parallel.py\u001b[0m in \u001b[0;36mretrieve\u001b[0;34m(self)\u001b[0m\n\u001b[1;32m    933\u001b[0m             \u001b[0;32mtry\u001b[0m\u001b[0;34m:\u001b[0m\u001b[0;34m\u001b[0m\u001b[0;34m\u001b[0m\u001b[0m\n\u001b[1;32m    934\u001b[0m                 \u001b[0;32mif\u001b[0m \u001b[0mgetattr\u001b[0m\u001b[0;34m(\u001b[0m\u001b[0mself\u001b[0m\u001b[0;34m.\u001b[0m\u001b[0m_backend\u001b[0m\u001b[0;34m,\u001b[0m \u001b[0;34m'supports_timeout'\u001b[0m\u001b[0;34m,\u001b[0m \u001b[0;32mFalse\u001b[0m\u001b[0;34m)\u001b[0m\u001b[0;34m:\u001b[0m\u001b[0;34m\u001b[0m\u001b[0;34m\u001b[0m\u001b[0m\n\u001b[0;32m--> 935\u001b[0;31m                     \u001b[0mself\u001b[0m\u001b[0;34m.\u001b[0m\u001b[0m_output\u001b[0m\u001b[0;34m.\u001b[0m\u001b[0mextend\u001b[0m\u001b[0;34m(\u001b[0m\u001b[0mjob\u001b[0m\u001b[0;34m.\u001b[0m\u001b[0mget\u001b[0m\u001b[0;34m(\u001b[0m\u001b[0mtimeout\u001b[0m\u001b[0;34m=\u001b[0m\u001b[0mself\u001b[0m\u001b[0;34m.\u001b[0m\u001b[0mtimeout\u001b[0m\u001b[0;34m)\u001b[0m\u001b[0;34m)\u001b[0m\u001b[0;34m\u001b[0m\u001b[0;34m\u001b[0m\u001b[0m\n\u001b[0m\u001b[1;32m    936\u001b[0m                 \u001b[0;32melse\u001b[0m\u001b[0;34m:\u001b[0m\u001b[0;34m\u001b[0m\u001b[0;34m\u001b[0m\u001b[0m\n\u001b[1;32m    937\u001b[0m                     \u001b[0mself\u001b[0m\u001b[0;34m.\u001b[0m\u001b[0m_output\u001b[0m\u001b[0;34m.\u001b[0m\u001b[0mextend\u001b[0m\u001b[0;34m(\u001b[0m\u001b[0mjob\u001b[0m\u001b[0;34m.\u001b[0m\u001b[0mget\u001b[0m\u001b[0;34m(\u001b[0m\u001b[0;34m)\u001b[0m\u001b[0;34m)\u001b[0m\u001b[0;34m\u001b[0m\u001b[0;34m\u001b[0m\u001b[0m\n",
      "\u001b[0;32m~/opt/anaconda3/lib/python3.9/site-packages/joblib/_parallel_backends.py\u001b[0m in \u001b[0;36mwrap_future_result\u001b[0;34m(future, timeout)\u001b[0m\n\u001b[1;32m    540\u001b[0m         AsyncResults.get from multiprocessing.\"\"\"\n\u001b[1;32m    541\u001b[0m         \u001b[0;32mtry\u001b[0m\u001b[0;34m:\u001b[0m\u001b[0;34m\u001b[0m\u001b[0;34m\u001b[0m\u001b[0m\n\u001b[0;32m--> 542\u001b[0;31m             \u001b[0;32mreturn\u001b[0m \u001b[0mfuture\u001b[0m\u001b[0;34m.\u001b[0m\u001b[0mresult\u001b[0m\u001b[0;34m(\u001b[0m\u001b[0mtimeout\u001b[0m\u001b[0;34m=\u001b[0m\u001b[0mtimeout\u001b[0m\u001b[0;34m)\u001b[0m\u001b[0;34m\u001b[0m\u001b[0;34m\u001b[0m\u001b[0m\n\u001b[0m\u001b[1;32m    543\u001b[0m         \u001b[0;32mexcept\u001b[0m \u001b[0mCfTimeoutError\u001b[0m \u001b[0;32mas\u001b[0m \u001b[0me\u001b[0m\u001b[0;34m:\u001b[0m\u001b[0;34m\u001b[0m\u001b[0;34m\u001b[0m\u001b[0m\n\u001b[1;32m    544\u001b[0m             \u001b[0;32mraise\u001b[0m \u001b[0mTimeoutError\u001b[0m \u001b[0;32mfrom\u001b[0m \u001b[0me\u001b[0m\u001b[0;34m\u001b[0m\u001b[0;34m\u001b[0m\u001b[0m\n",
      "\u001b[0;32m~/opt/anaconda3/lib/python3.9/concurrent/futures/_base.py\u001b[0m in \u001b[0;36mresult\u001b[0;34m(self, timeout)\u001b[0m\n\u001b[1;32m    438\u001b[0m                     \u001b[0;32mreturn\u001b[0m \u001b[0mself\u001b[0m\u001b[0;34m.\u001b[0m\u001b[0m__get_result\u001b[0m\u001b[0;34m(\u001b[0m\u001b[0;34m)\u001b[0m\u001b[0;34m\u001b[0m\u001b[0;34m\u001b[0m\u001b[0m\n\u001b[1;32m    439\u001b[0m \u001b[0;34m\u001b[0m\u001b[0m\n\u001b[0;32m--> 440\u001b[0;31m                 \u001b[0mself\u001b[0m\u001b[0;34m.\u001b[0m\u001b[0m_condition\u001b[0m\u001b[0;34m.\u001b[0m\u001b[0mwait\u001b[0m\u001b[0;34m(\u001b[0m\u001b[0mtimeout\u001b[0m\u001b[0;34m)\u001b[0m\u001b[0;34m\u001b[0m\u001b[0;34m\u001b[0m\u001b[0m\n\u001b[0m\u001b[1;32m    441\u001b[0m \u001b[0;34m\u001b[0m\u001b[0m\n\u001b[1;32m    442\u001b[0m                 \u001b[0;32mif\u001b[0m \u001b[0mself\u001b[0m\u001b[0;34m.\u001b[0m\u001b[0m_state\u001b[0m \u001b[0;32min\u001b[0m \u001b[0;34m[\u001b[0m\u001b[0mCANCELLED\u001b[0m\u001b[0;34m,\u001b[0m \u001b[0mCANCELLED_AND_NOTIFIED\u001b[0m\u001b[0;34m]\u001b[0m\u001b[0;34m:\u001b[0m\u001b[0;34m\u001b[0m\u001b[0;34m\u001b[0m\u001b[0m\n",
      "\u001b[0;32m~/opt/anaconda3/lib/python3.9/threading.py\u001b[0m in \u001b[0;36mwait\u001b[0;34m(self, timeout)\u001b[0m\n\u001b[1;32m    310\u001b[0m         \u001b[0;32mtry\u001b[0m\u001b[0;34m:\u001b[0m    \u001b[0;31m# restore state no matter what (e.g., KeyboardInterrupt)\u001b[0m\u001b[0;34m\u001b[0m\u001b[0;34m\u001b[0m\u001b[0m\n\u001b[1;32m    311\u001b[0m             \u001b[0;32mif\u001b[0m \u001b[0mtimeout\u001b[0m \u001b[0;32mis\u001b[0m \u001b[0;32mNone\u001b[0m\u001b[0;34m:\u001b[0m\u001b[0;34m\u001b[0m\u001b[0;34m\u001b[0m\u001b[0m\n\u001b[0;32m--> 312\u001b[0;31m                 \u001b[0mwaiter\u001b[0m\u001b[0;34m.\u001b[0m\u001b[0macquire\u001b[0m\u001b[0;34m(\u001b[0m\u001b[0;34m)\u001b[0m\u001b[0;34m\u001b[0m\u001b[0;34m\u001b[0m\u001b[0m\n\u001b[0m\u001b[1;32m    313\u001b[0m                 \u001b[0mgotit\u001b[0m \u001b[0;34m=\u001b[0m \u001b[0;32mTrue\u001b[0m\u001b[0;34m\u001b[0m\u001b[0;34m\u001b[0m\u001b[0m\n\u001b[1;32m    314\u001b[0m             \u001b[0;32melse\u001b[0m\u001b[0;34m:\u001b[0m\u001b[0;34m\u001b[0m\u001b[0;34m\u001b[0m\u001b[0m\n",
      "\u001b[0;31mKeyboardInterrupt\u001b[0m: "
     ]
    }
   ],
   "source": [
    "hyper_params_space = {\n",
    "        'lr': [0.1, 0.2, 0.25, 0.3, 0.4, 0.5],\n",
    "        'mom': [0.1, 0.2, 0.3, 0.5, 0.7, 0.85, 0.9],\n",
    "        'act': ['sigmoid', 'relu']\n",
    "    },\n",
    "\n",
    "\n",
    "\n",
    "print('===================================')\n",
    "# verbose is set to 0, no output will be printed to the console during training\n",
    "model = KerasClassifier(build_fn=create_modelCV, batch_size=25, epochs=150, verbose=0)\n",
    "mlpr = GridSearchCV( model\n",
    "                    , hyper_params_space, scoring=['accuracy'], refit='accuracy', cv=3, n_jobs=2)\n",
    "mlpr.fit(X_train1, y_train1)\n",
    "print(\"DONE\")\n",
    "resultGSCV=pd.DataFrame(mlpr.cv_results_)\n"
   ]
  },
  {
   "cell_type": "code",
   "execution_count": 12,
   "metadata": {
    "scrolled": true
   },
   "outputs": [
    {
     "data": {
      "text/plain": [
       "{'act': 'relu', 'lr': 0.1, 'mom': 0.9}"
      ]
     },
     "execution_count": 12,
     "metadata": {},
     "output_type": "execute_result"
    }
   ],
   "source": [
    "mlpr.best_params_"
   ]
  },
  {
   "cell_type": "code",
   "execution_count": 13,
   "metadata": {},
   "outputs": [],
   "source": [
    "from keras import initializers"
   ]
  },
  {
   "cell_type": "code",
   "execution_count": 14,
   "metadata": {},
   "outputs": [],
   "source": [
    "def create_modelOP():\n",
    "    # create model\n",
    "    model = Sequential()\n",
    "    model.add(Dense(4, input_dim=17, activation=mlpr.best_params_['act'], kernel_initializer=RandomUniform(minval=-0.1, maxval=0.1, seed=1)\n",
    "                    , kernel_regularizer=l2(0.0001)))\n",
    "    model.add(Dense(1, activation='sigmoid'))\n",
    "    # Compile model\n",
    "    model.compile(loss='mean_squared_error', metrics=['accuracy'], \n",
    "                  optimizer= SGD(lr=mlpr.best_params_['lr'], momentum=mlpr.best_params_['mom']))\n",
    "    return model"
   ]
  },
  {
   "cell_type": "code",
   "execution_count": 15,
   "metadata": {
    "scrolled": true
   },
   "outputs": [
    {
     "name": "stdout",
     "output_type": "stream",
     "text": [
      "Epoch 1/150\n",
      "5/5 [==============================] - 3s 385ms/step - loss: 0.2531 - accuracy: 0.4113 - val_loss: 0.2472 - val_accuracy: 0.5255\n",
      "Epoch 2/150\n",
      "5/5 [==============================] - 0s 71ms/step - loss: 0.2462 - accuracy: 0.5645 - val_loss: 0.2440 - val_accuracy: 0.6296\n",
      "Epoch 3/150\n",
      "5/5 [==============================] - 0s 40ms/step - loss: 0.2398 - accuracy: 0.6613 - val_loss: 0.2396 - val_accuracy: 0.5926\n",
      "Epoch 4/150\n",
      "5/5 [==============================] - 0s 40ms/step - loss: 0.2295 - accuracy: 0.6613 - val_loss: 0.2318 - val_accuracy: 0.6597\n",
      "Epoch 5/150\n",
      "5/5 [==============================] - 0s 56ms/step - loss: 0.2168 - accuracy: 0.7016 - val_loss: 0.2226 - val_accuracy: 0.6968\n",
      "Epoch 6/150\n",
      "5/5 [==============================] - 0s 40ms/step - loss: 0.2016 - accuracy: 0.7419 - val_loss: 0.2126 - val_accuracy: 0.7106\n",
      "Epoch 7/150\n",
      "5/5 [==============================] - 0s 61ms/step - loss: 0.1834 - accuracy: 0.7581 - val_loss: 0.2042 - val_accuracy: 0.7083\n",
      "Epoch 8/150\n",
      "5/5 [==============================] - 0s 33ms/step - loss: 0.1674 - accuracy: 0.7984 - val_loss: 0.1975 - val_accuracy: 0.7106\n",
      "Epoch 9/150\n",
      "5/5 [==============================] - 0s 101ms/step - loss: 0.1565 - accuracy: 0.8145 - val_loss: 0.1922 - val_accuracy: 0.7176\n",
      "Epoch 10/150\n",
      "5/5 [==============================] - 0s 36ms/step - loss: 0.1487 - accuracy: 0.8226 - val_loss: 0.1876 - val_accuracy: 0.7199\n",
      "Epoch 11/150\n",
      "5/5 [==============================] - 0s 25ms/step - loss: 0.1421 - accuracy: 0.8387 - val_loss: 0.1836 - val_accuracy: 0.7338\n",
      "Epoch 12/150\n",
      "5/5 [==============================] - 0s 35ms/step - loss: 0.1359 - accuracy: 0.8468 - val_loss: 0.1810 - val_accuracy: 0.7407\n",
      "Epoch 13/150\n",
      "5/5 [==============================] - 0s 43ms/step - loss: 0.1323 - accuracy: 0.8468 - val_loss: 0.1786 - val_accuracy: 0.7477\n",
      "Epoch 14/150\n",
      "5/5 [==============================] - 0s 29ms/step - loss: 0.1290 - accuracy: 0.8548 - val_loss: 0.1754 - val_accuracy: 0.7546\n",
      "Epoch 15/150\n",
      "5/5 [==============================] - 0s 27ms/step - loss: 0.1295 - accuracy: 0.8468 - val_loss: 0.1729 - val_accuracy: 0.7593\n",
      "Epoch 16/150\n",
      "5/5 [==============================] - 0s 43ms/step - loss: 0.1223 - accuracy: 0.8548 - val_loss: 0.1781 - val_accuracy: 0.7546\n",
      "Epoch 17/150\n",
      "5/5 [==============================] - 0s 30ms/step - loss: 0.1228 - accuracy: 0.8548 - val_loss: 0.1760 - val_accuracy: 0.7569\n",
      "Epoch 18/150\n",
      "5/5 [==============================] - 0s 23ms/step - loss: 0.1220 - accuracy: 0.8548 - val_loss: 0.1744 - val_accuracy: 0.7639\n",
      "Epoch 19/150\n",
      "5/5 [==============================] - 0s 25ms/step - loss: 0.1197 - accuracy: 0.8548 - val_loss: 0.1697 - val_accuracy: 0.7593\n",
      "Epoch 20/150\n",
      "5/5 [==============================] - 0s 22ms/step - loss: 0.1183 - accuracy: 0.8548 - val_loss: 0.1702 - val_accuracy: 0.7662\n",
      "Epoch 21/150\n",
      "5/5 [==============================] - 0s 23ms/step - loss: 0.1179 - accuracy: 0.8629 - val_loss: 0.1668 - val_accuracy: 0.7662\n",
      "Epoch 22/150\n",
      "5/5 [==============================] - 0s 18ms/step - loss: 0.1145 - accuracy: 0.8710 - val_loss: 0.1676 - val_accuracy: 0.7639\n",
      "Epoch 23/150\n",
      "5/5 [==============================] - 0s 18ms/step - loss: 0.1130 - accuracy: 0.8629 - val_loss: 0.1649 - val_accuracy: 0.7639\n",
      "Epoch 24/150\n",
      "5/5 [==============================] - 0s 40ms/step - loss: 0.1104 - accuracy: 0.8629 - val_loss: 0.1589 - val_accuracy: 0.7685\n",
      "Epoch 25/150\n",
      "5/5 [==============================] - 0s 30ms/step - loss: 0.1081 - accuracy: 0.8629 - val_loss: 0.1539 - val_accuracy: 0.7708\n",
      "Epoch 26/150\n",
      "5/5 [==============================] - 0s 25ms/step - loss: 0.1059 - accuracy: 0.8548 - val_loss: 0.1577 - val_accuracy: 0.7616\n",
      "Epoch 27/150\n",
      "5/5 [==============================] - 0s 19ms/step - loss: 0.1022 - accuracy: 0.8629 - val_loss: 0.1482 - val_accuracy: 0.7755\n",
      "Epoch 28/150\n",
      "5/5 [==============================] - 0s 19ms/step - loss: 0.0968 - accuracy: 0.8710 - val_loss: 0.1426 - val_accuracy: 0.7731\n",
      "Epoch 29/150\n",
      "5/5 [==============================] - 0s 19ms/step - loss: 0.0943 - accuracy: 0.8790 - val_loss: 0.1378 - val_accuracy: 0.7824\n",
      "Epoch 30/150\n",
      "5/5 [==============================] - 0s 21ms/step - loss: 0.0916 - accuracy: 0.8952 - val_loss: 0.1343 - val_accuracy: 0.7894\n",
      "Epoch 31/150\n",
      "5/5 [==============================] - 0s 17ms/step - loss: 0.0863 - accuracy: 0.8871 - val_loss: 0.1247 - val_accuracy: 0.8102\n",
      "Epoch 32/150\n",
      "5/5 [==============================] - 0s 18ms/step - loss: 0.0836 - accuracy: 0.9113 - val_loss: 0.1240 - val_accuracy: 0.8102\n",
      "Epoch 33/150\n",
      "5/5 [==============================] - 0s 32ms/step - loss: 0.0806 - accuracy: 0.9274 - val_loss: 0.1207 - val_accuracy: 0.8218\n",
      "Epoch 34/150\n",
      "5/5 [==============================] - 0s 35ms/step - loss: 0.0765 - accuracy: 0.9274 - val_loss: 0.1090 - val_accuracy: 0.8449\n",
      "Epoch 35/150\n",
      "5/5 [==============================] - 0s 25ms/step - loss: 0.0713 - accuracy: 0.9274 - val_loss: 0.1128 - val_accuracy: 0.8380\n",
      "Epoch 36/150\n",
      "5/5 [==============================] - 0s 20ms/step - loss: 0.0687 - accuracy: 0.9355 - val_loss: 0.0996 - val_accuracy: 0.8866\n",
      "Epoch 37/150\n",
      "5/5 [==============================] - 0s 29ms/step - loss: 0.0634 - accuracy: 0.9758 - val_loss: 0.0974 - val_accuracy: 0.8889\n",
      "Epoch 38/150\n",
      "5/5 [==============================] - 0s 25ms/step - loss: 0.0595 - accuracy: 0.9677 - val_loss: 0.0967 - val_accuracy: 0.8866\n",
      "Epoch 39/150\n",
      "5/5 [==============================] - 0s 38ms/step - loss: 0.0572 - accuracy: 0.9516 - val_loss: 0.0903 - val_accuracy: 0.9074\n",
      "Epoch 40/150\n",
      "5/5 [==============================] - 0s 38ms/step - loss: 0.0554 - accuracy: 0.9919 - val_loss: 0.0825 - val_accuracy: 0.9282\n",
      "Epoch 41/150\n",
      "5/5 [==============================] - 0s 31ms/step - loss: 0.0499 - accuracy: 0.9919 - val_loss: 0.0811 - val_accuracy: 0.9236\n",
      "Epoch 42/150\n",
      "5/5 [==============================] - 0s 19ms/step - loss: 0.0484 - accuracy: 0.9758 - val_loss: 0.0793 - val_accuracy: 0.9167\n",
      "Epoch 43/150\n",
      "5/5 [==============================] - 0s 20ms/step - loss: 0.0465 - accuracy: 0.9839 - val_loss: 0.0703 - val_accuracy: 0.9583\n",
      "Epoch 44/150\n",
      "5/5 [==============================] - 0s 43ms/step - loss: 0.0426 - accuracy: 0.9919 - val_loss: 0.0738 - val_accuracy: 0.9306\n",
      "Epoch 45/150\n",
      "5/5 [==============================] - 0s 35ms/step - loss: 0.0403 - accuracy: 0.9919 - val_loss: 0.0649 - val_accuracy: 0.9676\n",
      "Epoch 46/150\n",
      "5/5 [==============================] - 0s 23ms/step - loss: 0.0383 - accuracy: 0.9919 - val_loss: 0.0623 - val_accuracy: 0.9722\n",
      "Epoch 47/150\n",
      "5/5 [==============================] - 0s 18ms/step - loss: 0.0361 - accuracy: 0.9919 - val_loss: 0.0638 - val_accuracy: 0.9468\n",
      "Epoch 48/150\n",
      "5/5 [==============================] - 0s 17ms/step - loss: 0.0346 - accuracy: 1.0000 - val_loss: 0.0548 - val_accuracy: 0.9838\n",
      "Epoch 49/150\n",
      "5/5 [==============================] - 0s 21ms/step - loss: 0.0322 - accuracy: 0.9919 - val_loss: 0.0586 - val_accuracy: 0.9630\n",
      "Epoch 50/150\n",
      "5/5 [==============================] - 0s 23ms/step - loss: 0.0318 - accuracy: 0.9919 - val_loss: 0.0511 - val_accuracy: 0.9861\n",
      "Epoch 51/150\n",
      "5/5 [==============================] - 0s 63ms/step - loss: 0.0297 - accuracy: 1.0000 - val_loss: 0.0498 - val_accuracy: 0.9838\n",
      "Epoch 52/150\n",
      "5/5 [==============================] - 0s 40ms/step - loss: 0.0283 - accuracy: 0.9919 - val_loss: 0.0495 - val_accuracy: 0.9769\n",
      "Epoch 53/150\n",
      "5/5 [==============================] - 0s 46ms/step - loss: 0.0253 - accuracy: 1.0000 - val_loss: 0.0441 - val_accuracy: 0.9931\n",
      "Epoch 54/150\n",
      "5/5 [==============================] - 0s 39ms/step - loss: 0.0255 - accuracy: 1.0000 - val_loss: 0.0450 - val_accuracy: 0.9884\n",
      "Epoch 55/150\n",
      "5/5 [==============================] - 0s 47ms/step - loss: 0.0232 - accuracy: 1.0000 - val_loss: 0.0402 - val_accuracy: 0.9954\n",
      "Epoch 56/150\n",
      "5/5 [==============================] - 0s 28ms/step - loss: 0.0217 - accuracy: 1.0000 - val_loss: 0.0406 - val_accuracy: 0.9931\n",
      "Epoch 57/150\n",
      "5/5 [==============================] - 0s 28ms/step - loss: 0.0216 - accuracy: 1.0000 - val_loss: 0.0378 - val_accuracy: 0.9954\n",
      "Epoch 58/150\n",
      "5/5 [==============================] - 0s 40ms/step - loss: 0.0204 - accuracy: 1.0000 - val_loss: 0.0368 - val_accuracy: 0.9954\n",
      "Epoch 59/150\n",
      "5/5 [==============================] - 0s 30ms/step - loss: 0.0194 - accuracy: 1.0000 - val_loss: 0.0360 - val_accuracy: 0.9861\n",
      "Epoch 60/150\n",
      "5/5 [==============================] - 0s 24ms/step - loss: 0.0187 - accuracy: 1.0000 - val_loss: 0.0335 - val_accuracy: 0.9954\n",
      "Epoch 61/150\n",
      "5/5 [==============================] - 0s 26ms/step - loss: 0.0203 - accuracy: 1.0000 - val_loss: 0.0324 - val_accuracy: 0.9954\n",
      "Epoch 62/150\n",
      "5/5 [==============================] - 0s 29ms/step - loss: 0.0186 - accuracy: 1.0000 - val_loss: 0.0365 - val_accuracy: 0.9907\n",
      "Epoch 63/150\n",
      "5/5 [==============================] - 0s 45ms/step - loss: 0.0165 - accuracy: 1.0000 - val_loss: 0.0297 - val_accuracy: 0.9954\n",
      "Epoch 64/150\n",
      "5/5 [==============================] - 0s 87ms/step - loss: 0.0168 - accuracy: 1.0000 - val_loss: 0.0324 - val_accuracy: 0.9884\n",
      "Epoch 65/150\n",
      "5/5 [==============================] - 0s 55ms/step - loss: 0.0149 - accuracy: 1.0000 - val_loss: 0.0285 - val_accuracy: 0.9954\n",
      "Epoch 66/150\n",
      "5/5 [==============================] - 0s 56ms/step - loss: 0.0153 - accuracy: 1.0000 - val_loss: 0.0281 - val_accuracy: 0.9954\n",
      "Epoch 67/150\n",
      "5/5 [==============================] - 0s 75ms/step - loss: 0.0153 - accuracy: 1.0000 - val_loss: 0.0288 - val_accuracy: 0.9954\n",
      "Epoch 68/150\n",
      "5/5 [==============================] - 0s 44ms/step - loss: 0.0134 - accuracy: 1.0000 - val_loss: 0.0250 - val_accuracy: 0.9954\n",
      "Epoch 69/150\n",
      "5/5 [==============================] - 0s 86ms/step - loss: 0.0142 - accuracy: 1.0000 - val_loss: 0.0284 - val_accuracy: 0.9907\n",
      "Epoch 70/150\n",
      "5/5 [==============================] - 0s 30ms/step - loss: 0.0127 - accuracy: 1.0000 - val_loss: 0.0239 - val_accuracy: 0.9954\n",
      "Epoch 71/150\n",
      "5/5 [==============================] - 0s 106ms/step - loss: 0.0126 - accuracy: 1.0000 - val_loss: 0.0231 - val_accuracy: 0.9954\n",
      "Epoch 72/150\n",
      "5/5 [==============================] - 0s 67ms/step - loss: 0.0121 - accuracy: 1.0000 - val_loss: 0.0245 - val_accuracy: 0.9954\n",
      "Epoch 73/150\n",
      "5/5 [==============================] - 0s 33ms/step - loss: 0.0112 - accuracy: 1.0000 - val_loss: 0.0217 - val_accuracy: 0.9954\n",
      "Epoch 74/150\n",
      "5/5 [==============================] - 0s 47ms/step - loss: 0.0113 - accuracy: 1.0000 - val_loss: 0.0215 - val_accuracy: 0.9954\n",
      "Epoch 75/150\n",
      "5/5 [==============================] - 0s 41ms/step - loss: 0.0113 - accuracy: 1.0000 - val_loss: 0.0224 - val_accuracy: 0.9954\n",
      "Epoch 76/150\n",
      "5/5 [==============================] - 0s 25ms/step - loss: 0.0103 - accuracy: 1.0000 - val_loss: 0.0197 - val_accuracy: 0.9954\n",
      "Epoch 77/150\n",
      "5/5 [==============================] - 0s 50ms/step - loss: 0.0104 - accuracy: 1.0000 - val_loss: 0.0202 - val_accuracy: 0.9954\n",
      "Epoch 78/150\n",
      "5/5 [==============================] - 0s 38ms/step - loss: 0.0100 - accuracy: 1.0000 - val_loss: 0.0211 - val_accuracy: 0.9954\n",
      "Epoch 79/150\n",
      "5/5 [==============================] - 0s 34ms/step - loss: 0.0101 - accuracy: 1.0000 - val_loss: 0.0187 - val_accuracy: 0.9954\n",
      "Epoch 80/150\n",
      "5/5 [==============================] - 0s 42ms/step - loss: 0.0096 - accuracy: 1.0000 - val_loss: 0.0199 - val_accuracy: 0.9954\n",
      "Epoch 81/150\n",
      "5/5 [==============================] - 0s 26ms/step - loss: 0.0094 - accuracy: 1.0000 - val_loss: 0.0187 - val_accuracy: 0.9954\n",
      "Epoch 82/150\n",
      "5/5 [==============================] - 0s 38ms/step - loss: 0.0092 - accuracy: 1.0000 - val_loss: 0.0178 - val_accuracy: 0.9954\n",
      "Epoch 83/150\n",
      "5/5 [==============================] - 0s 35ms/step - loss: 0.0091 - accuracy: 1.0000 - val_loss: 0.0193 - val_accuracy: 0.9954\n",
      "Epoch 84/150\n",
      "5/5 [==============================] - 0s 60ms/step - loss: 0.0089 - accuracy: 1.0000 - val_loss: 0.0172 - val_accuracy: 0.9954\n",
      "Epoch 85/150\n",
      "5/5 [==============================] - 0s 27ms/step - loss: 0.0087 - accuracy: 1.0000 - val_loss: 0.0166 - val_accuracy: 0.9954\n",
      "Epoch 86/150\n",
      "5/5 [==============================] - 0s 60ms/step - loss: 0.0087 - accuracy: 1.0000 - val_loss: 0.0184 - val_accuracy: 0.9954\n",
      "Epoch 87/150\n",
      "5/5 [==============================] - 0s 76ms/step - loss: 0.0084 - accuracy: 1.0000 - val_loss: 0.0160 - val_accuracy: 0.9954\n",
      "Epoch 88/150\n",
      "5/5 [==============================] - 0s 26ms/step - loss: 0.0083 - accuracy: 1.0000 - val_loss: 0.0159 - val_accuracy: 0.9954\n",
      "Epoch 89/150\n",
      "5/5 [==============================] - 0s 31ms/step - loss: 0.0080 - accuracy: 1.0000 - val_loss: 0.0165 - val_accuracy: 0.9954\n",
      "Epoch 90/150\n",
      "5/5 [==============================] - 0s 32ms/step - loss: 0.0080 - accuracy: 1.0000 - val_loss: 0.0155 - val_accuracy: 0.9954\n",
      "Epoch 91/150\n",
      "5/5 [==============================] - 0s 32ms/step - loss: 0.0077 - accuracy: 1.0000 - val_loss: 0.0154 - val_accuracy: 0.9954\n",
      "Epoch 92/150\n",
      "5/5 [==============================] - 0s 42ms/step - loss: 0.0077 - accuracy: 1.0000 - val_loss: 0.0149 - val_accuracy: 0.9954\n",
      "Epoch 93/150\n",
      "5/5 [==============================] - 0s 25ms/step - loss: 0.0075 - accuracy: 1.0000 - val_loss: 0.0149 - val_accuracy: 0.9954\n",
      "Epoch 94/150\n",
      "5/5 [==============================] - 0s 35ms/step - loss: 0.0074 - accuracy: 1.0000 - val_loss: 0.0147 - val_accuracy: 0.9954\n",
      "Epoch 95/150\n",
      "5/5 [==============================] - 0s 35ms/step - loss: 0.0073 - accuracy: 1.0000 - val_loss: 0.0143 - val_accuracy: 0.9954\n",
      "Epoch 96/150\n",
      "5/5 [==============================] - 0s 28ms/step - loss: 0.0072 - accuracy: 1.0000 - val_loss: 0.0144 - val_accuracy: 0.9954\n",
      "Epoch 97/150\n",
      "5/5 [==============================] - 0s 43ms/step - loss: 0.0071 - accuracy: 1.0000 - val_loss: 0.0139 - val_accuracy: 0.9954\n",
      "Epoch 98/150\n",
      "5/5 [==============================] - 0s 45ms/step - loss: 0.0072 - accuracy: 1.0000 - val_loss: 0.0136 - val_accuracy: 0.9977\n",
      "Epoch 99/150\n",
      "5/5 [==============================] - 0s 63ms/step - loss: 0.0070 - accuracy: 1.0000 - val_loss: 0.0137 - val_accuracy: 0.9954\n",
      "Epoch 100/150\n",
      "5/5 [==============================] - 0s 28ms/step - loss: 0.0070 - accuracy: 1.0000 - val_loss: 0.0139 - val_accuracy: 0.9954\n",
      "Epoch 101/150\n",
      "5/5 [==============================] - 0s 42ms/step - loss: 0.0069 - accuracy: 1.0000 - val_loss: 0.0130 - val_accuracy: 1.0000\n",
      "Epoch 102/150\n",
      "5/5 [==============================] - 0s 33ms/step - loss: 0.0068 - accuracy: 1.0000 - val_loss: 0.0131 - val_accuracy: 1.0000\n",
      "Epoch 103/150\n",
      "5/5 [==============================] - 0s 33ms/step - loss: 0.0067 - accuracy: 1.0000 - val_loss: 0.0132 - val_accuracy: 0.9977\n",
      "Epoch 104/150\n",
      "5/5 [==============================] - 0s 42ms/step - loss: 0.0067 - accuracy: 1.0000 - val_loss: 0.0127 - val_accuracy: 1.0000\n",
      "Epoch 105/150\n",
      "5/5 [==============================] - 0s 25ms/step - loss: 0.0066 - accuracy: 1.0000 - val_loss: 0.0123 - val_accuracy: 1.0000\n",
      "Epoch 106/150\n",
      "5/5 [==============================] - 0s 41ms/step - loss: 0.0066 - accuracy: 1.0000 - val_loss: 0.0126 - val_accuracy: 1.0000\n",
      "Epoch 107/150\n",
      "5/5 [==============================] - 0s 27ms/step - loss: 0.0065 - accuracy: 1.0000 - val_loss: 0.0124 - val_accuracy: 1.0000\n",
      "Epoch 108/150\n",
      "5/5 [==============================] - 0s 74ms/step - loss: 0.0064 - accuracy: 1.0000 - val_loss: 0.0120 - val_accuracy: 1.0000\n",
      "Epoch 109/150\n",
      "5/5 [==============================] - 0s 41ms/step - loss: 0.0065 - accuracy: 1.0000 - val_loss: 0.0124 - val_accuracy: 1.0000\n",
      "Epoch 110/150\n",
      "5/5 [==============================] - 0s 29ms/step - loss: 0.0064 - accuracy: 1.0000 - val_loss: 0.0118 - val_accuracy: 1.0000\n",
      "Epoch 111/150\n",
      "5/5 [==============================] - 0s 34ms/step - loss: 0.0063 - accuracy: 1.0000 - val_loss: 0.0118 - val_accuracy: 1.0000\n",
      "Epoch 112/150\n",
      "5/5 [==============================] - 0s 30ms/step - loss: 0.0062 - accuracy: 1.0000 - val_loss: 0.0120 - val_accuracy: 1.0000\n",
      "Epoch 113/150\n",
      "5/5 [==============================] - 0s 27ms/step - loss: 0.0062 - accuracy: 1.0000 - val_loss: 0.0115 - val_accuracy: 1.0000\n",
      "Epoch 114/150\n",
      "5/5 [==============================] - 0s 34ms/step - loss: 0.0061 - accuracy: 1.0000 - val_loss: 0.0114 - val_accuracy: 1.0000\n",
      "Epoch 115/150\n",
      "5/5 [==============================] - 0s 39ms/step - loss: 0.0061 - accuracy: 1.0000 - val_loss: 0.0115 - val_accuracy: 1.0000\n",
      "Epoch 116/150\n",
      "5/5 [==============================] - 0s 35ms/step - loss: 0.0061 - accuracy: 1.0000 - val_loss: 0.0110 - val_accuracy: 1.0000\n",
      "Epoch 117/150\n",
      "5/5 [==============================] - 0s 34ms/step - loss: 0.0060 - accuracy: 1.0000 - val_loss: 0.0110 - val_accuracy: 1.0000\n",
      "Epoch 118/150\n",
      "5/5 [==============================] - 0s 28ms/step - loss: 0.0060 - accuracy: 1.0000 - val_loss: 0.0113 - val_accuracy: 1.0000\n",
      "Epoch 119/150\n",
      "5/5 [==============================] - 0s 24ms/step - loss: 0.0060 - accuracy: 1.0000 - val_loss: 0.0109 - val_accuracy: 1.0000\n",
      "Epoch 120/150\n",
      "5/5 [==============================] - 0s 48ms/step - loss: 0.0059 - accuracy: 1.0000 - val_loss: 0.0106 - val_accuracy: 1.0000\n",
      "Epoch 121/150\n",
      "5/5 [==============================] - 0s 26ms/step - loss: 0.0059 - accuracy: 1.0000 - val_loss: 0.0105 - val_accuracy: 1.0000\n",
      "Epoch 122/150\n",
      "5/5 [==============================] - 0s 34ms/step - loss: 0.0058 - accuracy: 1.0000 - val_loss: 0.0109 - val_accuracy: 1.0000\n",
      "Epoch 123/150\n",
      "5/5 [==============================] - 0s 36ms/step - loss: 0.0058 - accuracy: 1.0000 - val_loss: 0.0106 - val_accuracy: 1.0000\n",
      "Epoch 124/150\n",
      "5/5 [==============================] - 0s 38ms/step - loss: 0.0058 - accuracy: 1.0000 - val_loss: 0.0102 - val_accuracy: 1.0000\n",
      "Epoch 125/150\n",
      "5/5 [==============================] - 0s 33ms/step - loss: 0.0058 - accuracy: 1.0000 - val_loss: 0.0101 - val_accuracy: 1.0000\n",
      "Epoch 126/150\n",
      "5/5 [==============================] - 0s 106ms/step - loss: 0.0058 - accuracy: 1.0000 - val_loss: 0.0105 - val_accuracy: 1.0000\n",
      "Epoch 127/150\n",
      "5/5 [==============================] - 0s 60ms/step - loss: 0.0057 - accuracy: 1.0000 - val_loss: 0.0101 - val_accuracy: 1.0000\n",
      "Epoch 128/150\n",
      "5/5 [==============================] - 0s 53ms/step - loss: 0.0057 - accuracy: 1.0000 - val_loss: 0.0099 - val_accuracy: 1.0000\n",
      "Epoch 129/150\n",
      "5/5 [==============================] - 0s 65ms/step - loss: 0.0056 - accuracy: 1.0000 - val_loss: 0.0103 - val_accuracy: 1.0000\n",
      "Epoch 130/150\n",
      "5/5 [==============================] - 0s 72ms/step - loss: 0.0056 - accuracy: 1.0000 - val_loss: 0.0100 - val_accuracy: 1.0000\n",
      "Epoch 131/150\n",
      "5/5 [==============================] - 0s 59ms/step - loss: 0.0056 - accuracy: 1.0000 - val_loss: 0.0097 - val_accuracy: 1.0000\n",
      "Epoch 132/150\n",
      "5/5 [==============================] - 0s 31ms/step - loss: 0.0056 - accuracy: 1.0000 - val_loss: 0.0096 - val_accuracy: 1.0000\n",
      "Epoch 133/150\n",
      "5/5 [==============================] - 0s 31ms/step - loss: 0.0055 - accuracy: 1.0000 - val_loss: 0.0100 - val_accuracy: 1.0000\n",
      "Epoch 134/150\n",
      "5/5 [==============================] - 0s 26ms/step - loss: 0.0055 - accuracy: 1.0000 - val_loss: 0.0096 - val_accuracy: 1.0000\n",
      "Epoch 135/150\n",
      "5/5 [==============================] - 0s 29ms/step - loss: 0.0055 - accuracy: 1.0000 - val_loss: 0.0094 - val_accuracy: 1.0000\n",
      "Epoch 136/150\n",
      "5/5 [==============================] - 0s 26ms/step - loss: 0.0055 - accuracy: 1.0000 - val_loss: 0.0094 - val_accuracy: 1.0000\n",
      "Epoch 137/150\n",
      "5/5 [==============================] - 0s 36ms/step - loss: 0.0054 - accuracy: 1.0000 - val_loss: 0.0096 - val_accuracy: 1.0000\n",
      "Epoch 138/150\n",
      "5/5 [==============================] - 0s 38ms/step - loss: 0.0054 - accuracy: 1.0000 - val_loss: 0.0094 - val_accuracy: 1.0000\n",
      "Epoch 139/150\n",
      "5/5 [==============================] - 0s 27ms/step - loss: 0.0054 - accuracy: 1.0000 - val_loss: 0.0090 - val_accuracy: 1.0000\n",
      "Epoch 140/150\n",
      "5/5 [==============================] - 0s 26ms/step - loss: 0.0054 - accuracy: 1.0000 - val_loss: 0.0091 - val_accuracy: 1.0000\n",
      "Epoch 141/150\n",
      "5/5 [==============================] - 0s 25ms/step - loss: 0.0053 - accuracy: 1.0000 - val_loss: 0.0093 - val_accuracy: 1.0000\n",
      "Epoch 142/150\n",
      "5/5 [==============================] - 0s 27ms/step - loss: 0.0053 - accuracy: 1.0000 - val_loss: 0.0092 - val_accuracy: 1.0000\n",
      "Epoch 143/150\n",
      "5/5 [==============================] - 0s 42ms/step - loss: 0.0053 - accuracy: 1.0000 - val_loss: 0.0091 - val_accuracy: 1.0000\n",
      "Epoch 144/150\n",
      "5/5 [==============================] - 0s 63ms/step - loss: 0.0053 - accuracy: 1.0000 - val_loss: 0.0087 - val_accuracy: 1.0000\n",
      "Epoch 145/150\n",
      "5/5 [==============================] - 0s 37ms/step - loss: 0.0053 - accuracy: 1.0000 - val_loss: 0.0089 - val_accuracy: 1.0000\n",
      "Epoch 146/150\n",
      "5/5 [==============================] - 0s 34ms/step - loss: 0.0052 - accuracy: 1.0000 - val_loss: 0.0090 - val_accuracy: 1.0000\n",
      "Epoch 147/150\n",
      "5/5 [==============================] - 0s 24ms/step - loss: 0.0052 - accuracy: 1.0000 - val_loss: 0.0089 - val_accuracy: 1.0000\n",
      "Epoch 148/150\n",
      "5/5 [==============================] - 0s 26ms/step - loss: 0.0052 - accuracy: 1.0000 - val_loss: 0.0088 - val_accuracy: 1.0000\n",
      "Epoch 149/150\n",
      "5/5 [==============================] - 0s 28ms/step - loss: 0.0052 - accuracy: 1.0000 - val_loss: 0.0087 - val_accuracy: 1.0000\n",
      "Epoch 150/150\n",
      "5/5 [==============================] - 0s 31ms/step - loss: 0.0052 - accuracy: 1.0000 - val_loss: 0.0087 - val_accuracy: 1.0000\n"
     ]
    }
   ],
   "source": [
    "#instantiate the model and run it\n",
    "#es = EarlyStopping(monitor='val_loss', patience=30)\n",
    "#mc = ModelCheckpoint('best_model_NOREG.h5', monitor='val_loss', save_best_only=True)\n",
    "\n",
    "model1 = create_modelOP()\n",
    "\n",
    "history1 = model1.fit(X_train1, y_train1, \n",
    "                      validation_data=(X_test1, y_test1), \n",
    "                      epochs=150, \n",
    "                      batch_size=25, \n",
    "                      #callbacks=[es,mc]\n",
    "                     ).history"
   ]
  },
  {
   "cell_type": "code",
   "execution_count": 16,
   "metadata": {
    "scrolled": false
   },
   "outputs": [
    {
     "data": {
      "image/png": "[encoded data removed]",
      "text/plain": [
       "<Figure size 360x360 with 1 Axes>"
      ]
     },
     "metadata": {
      "needs_background": "light"
     },
     "output_type": "display_data"
    }
   ],
   "source": [
    "#See if we have overfitting\n",
    "plt.figure(figsize=(5,5))\n",
    "plt.plot(history1['loss'], label='MSE')\n",
    "plt.plot(history1['accuracy'], label='Accuracy', linestyle='dashed')\n",
    "#plt.plot(history1['val_loss'], label='Test')\n",
    "#plt.title('Learning curves for training', fontsize = 18)\n",
    "plt.xlabel('Epochs')\n",
    "#plt.ylabel('MSE')\n",
    "plt.legend()\n",
    "plt.show()"
   ]
  },
  {
   "cell_type": "code",
   "execution_count": 17,
   "metadata": {},
   "outputs": [
    {
     "data": {
      "image/png": "[encoded data removed]",
      "text/plain": [
       "<Figure size 360x360 with 1 Axes>"
      ]
     },
     "metadata": {
      "needs_background": "light"
     },
     "output_type": "display_data"
    }
   ],
   "source": [
    "#See if we have overfitting\n",
    "plt.figure(figsize=(5,5))\n",
    "plt.plot(history1['val_loss'], label='MSE')\n",
    "plt.plot(history1['val_accuracy'], label='Accuracy', linestyle='dashed')\n",
    "#plt.plot(history1['val_loss'], label='Test')\n",
    "#plt.title('Learning curves for test', fontsize = 18)\n",
    "plt.xlabel('Epochs')\n",
    "#plt.ylabel('MSE')\n",
    "plt.legend()\n",
    "plt.show()"
   ]
  },
  {
   "cell_type": "code",
   "execution_count": 18,
   "metadata": {
    "scrolled": true
   },
   "outputs": [
    {
     "name": "stdout",
     "output_type": "stream",
     "text": [
      "14/14 [==============================] - 0s 2ms/step - loss: 0.0087 - accuracy: 1.0000\n"
     ]
    }
   ],
   "source": [
    "mse, accuracy = model1.evaluate(X_test1, y_test1)"
   ]
  },
  {
   "cell_type": "code",
   "execution_count": 19,
   "metadata": {
    "scrolled": true
   },
   "outputs": [
    {
     "name": "stdout",
     "output_type": "stream",
     "text": [
      "Accuracy on Test 1.0\n",
      "MSE on Test 0.008655073121190071\n"
     ]
    }
   ],
   "source": [
    "print(\"Accuracy on Test\", accuracy)\n",
    "print(\"MSE on Test\", mse)"
   ]
  },
  {
   "cell_type": "code",
   "execution_count": 20,
   "metadata": {},
   "outputs": [
    {
     "name": "stdout",
     "output_type": "stream",
     "text": [
      "4/4 [==============================] - 0s 3ms/step - loss: 0.0051 - accuracy: 1.0000\n"
     ]
    }
   ],
   "source": [
    "mse_tr, accuracy_tr = model1.evaluate(X_train1, y_train1)"
   ]
  },
  {
   "cell_type": "code",
   "execution_count": 21,
   "metadata": {},
   "outputs": [
    {
     "name": "stdout",
     "output_type": "stream",
     "text": [
      "Accuracy on Training 1.0\n",
      "MSE on Training 0.0051472666673362255\n"
     ]
    }
   ],
   "source": [
    "print(\"Accuracy on Training\", accuracy_tr)\n",
    "print(\"MSE on Training\", mse_tr)"
   ]
  },
  {
   "cell_type": "code",
   "execution_count": null,
   "metadata": {},
   "outputs": [],
   "source": []
  }
 ],
 "metadata": {
  "kernelspec": {
   "display_name": "Python 3.7.4 32-bit",
   "language": "python",
   "name": "python3"
  },
  "language_info": {
   "codemirror_mode": {
    "name": "ipython",
    "version": 3
   },
   "file_extension": ".py",
   "mimetype": "text/x-python",
   "name": "python",
   "nbconvert_exporter": "python",
   "pygments_lexer": "ipython3",
   "version": "3.7.4"
  },
  "vscode": {
   "interpreter": {
    "hash": "43b5c63db261ca5051cb55de1c6286202162451824cb753635f4f1f1c93d73cc"
   }
  }
 },
 "nbformat": 4,
 "nbformat_minor": 4
}
