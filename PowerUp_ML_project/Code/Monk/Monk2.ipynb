{
 "cells": [
  {
   "cell_type": "code",
   "execution_count": null,
   "metadata": {},
   "outputs": [],
   "source": [
    "import numpy as np\n",
    "from numpy import loadtxt\n",
    "import matplotlib.pyplot as plt\n",
    "import warnings\n",
    "from sklearn.model_selection import train_test_split\n",
    "from sklearn.metrics import mean_squared_error\n",
    "import pandas as pd\n",
    "from keras.models import Sequential\n",
    "from keras.callbacks import Callback\n",
    "from keras.layers import Dense\n",
    "from keras.regularizers import l2\n",
    "from keras.optimizers import SGD\n",
    "from keras.callbacks import EarlyStopping, ModelCheckpoint\n",
    "from keras.initializers import RandomUniform\n",
    "from sklearn.preprocessing import OneHotEncoder\n",
    "from keras.wrappers.scikit_learn import KerasClassifier\n",
    "from sklearn.model_selection import GridSearchCV"
   ]
  },
  {
   "cell_type": "code",
   "execution_count": 2,
   "metadata": {},
   "outputs": [],
   "source": [
    "warnings.simplefilter(\"ignore\")"
   ]
  },
  {
   "cell_type": "code",
   "execution_count": 3,
   "metadata": {},
   "outputs": [],
   "source": [
    "np.random.seed(1)"
   ]
  },
  {
   "cell_type": "code",
   "execution_count": 4,
   "metadata": {},
   "outputs": [],
   "source": [
    "train2 = loadtxt('../../data/monks-2.train',\n",
    "                         delimiter=' ', usecols=range(1, 8))\n",
    "test2 = loadtxt('../../data/monks-2.test',\n",
    "                        delimiter=' ', usecols=range(1, 8))"
   ]
  },
  {
   "cell_type": "code",
   "execution_count": 5,
   "metadata": {},
   "outputs": [],
   "source": [
    "X_train2=train2[:, 1:7]\n",
    "y_train2=train2[:, 0]\n",
    "\n",
    "X_test2=test2[:, 1:7]\n",
    "y_test2=test2[:, 0]"
   ]
  },
  {
   "cell_type": "code",
   "execution_count": 6,
   "metadata": {},
   "outputs": [],
   "source": [
    "enc=OneHotEncoder()"
   ]
  },
  {
   "cell_type": "code",
   "execution_count": 7,
   "metadata": {},
   "outputs": [],
   "source": [
    "X_train2=enc.fit_transform(X_train2).toarray()\n",
    "X_test2=enc.fit_transform(X_test2).toarray()"
   ]
  },
  {
   "cell_type": "code",
   "execution_count": 8,
   "metadata": {},
   "outputs": [],
   "source": [
    "def create_modelCV(lr=0.1, mom=0.1, act='relu'):\n",
    "    # create model\n",
    "    model = Sequential()\n",
    "    model.add(Dense(4, input_dim=17, kernel_initializer=RandomUniform(minval=-0.1, maxval=0.1, seed=1), \n",
    "                    activation=act,\n",
    "                   kernel_regularizer=l2(0.0001)))\n",
    "    model.add(Dense(1, activation='sigmoid'))\n",
    "    # Compile model\n",
    "    model.compile(loss='mean_squared_error', metrics=['accuracy'], optimizer= SGD(lr=lr, momentum=mom, nesterov=False))\n",
    "    return model"
   ]
  },
  {
   "cell_type": "code",
   "execution_count": null,
   "metadata": {},
   "outputs": [],
   "source": [
    "hyper_params_space = {\n",
    "        'lr': [0.1, 0.2, 0.3, 0.4, 0.5, 0.6],\n",
    "        'mom': [0.1, 0.2, 0.3, 0.5, 0.7, 0.8],\n",
    "        'act': ['sigmoid', 'relu']\n",
    "    },\n",
    "\n",
    "\n",
    "\n",
    "print('===================================')\n",
    "model = KerasClassifier(build_fn=create_modelCV, batch_size=25, epochs=150)\n",
    "mlpr = GridSearchCV( model\n",
    "                    , hyper_params_space, scoring=['accuracy'], refit='accuracy', cv=3, n_jobs=2)\n",
    "mlpr.fit(X_train2, y_train2)\n",
    "print(\"DONE\")\n",
    "resultGSCV=pd.DataFrame(mlpr.cv_results_)"
   ]
  },
  {
   "cell_type": "code",
   "execution_count": null,
   "metadata": {
    "scrolled": true
   },
   "outputs": [],
   "source": [
    "mlpr.best_params_"
   ]
  },
  {
   "cell_type": "code",
   "execution_count": null,
   "metadata": {},
   "outputs": [],
   "source": [
    "def create_modelOP():\n",
    "    # create model\n",
    "    model = Sequential()\n",
    "    model.add(Dense(4, input_dim=17, kernel_initializer=RandomUniform(minval=-0.1, maxval=0.1, seed=1), \n",
    "                    activation=mlpr.best_params_['act'],\n",
    "                   kernel_regularizer=l2(0.0001)))\n",
    "    model.add(Dense(1, activation='sigmoid'))\n",
    "    # Compile model\n",
    "    model.compile(loss='mean_squared_error', metrics=['accuracy'], \n",
    "                  optimizer= SGD(lr=mlpr.best_params_['lr'], momentum=mlpr.best_params_['mom']))\n",
    "    return model"
   ]
  },
  {
   "cell_type": "code",
   "execution_count": null,
   "metadata": {
    "scrolled": true
   },
   "outputs": [],
   "source": [
    "#instantiate the model and run it\n",
    "#es = EarlyStopping(monitor='val_loss', patience=30)\n",
    "#mc = ModelCheckpoint('best_model_NOREG.h5', monitor='val_loss', save_best_only=True)\n",
    "\n",
    "model1 = create_modelOP()\n",
    "\n",
    "history1 = model1.fit(X_train2, y_train2, \n",
    "                      validation_data=(X_test2, y_test2), \n",
    "                      epochs=100, \n",
    "                      batch_size=25, \n",
    "                      #callbacks=[es,mc]\n",
    "                     ).history"
   ]
  },
  {
   "cell_type": "code",
   "execution_count": null,
   "metadata": {},
   "outputs": [],
   "source": [
    "#See if we have overfitting\n",
    "plt.figure(figsize=(5,5))\n",
    "plt.plot(history1['loss'], label='MSE')\n",
    "plt.plot(history1['accuracy'], label='Accuracy', linestyle='dashed')\n",
    "#plt.plot(history1['val_loss'], label='Test')\n",
    "#plt.title('Learning curves for training', fontsize = 18)\n",
    "plt.xlabel('Epochs')\n",
    "plt.ylabel('MSE')\n",
    "plt.legend()\n",
    "plt.show()"
   ]
  },
  {
   "cell_type": "code",
   "execution_count": null,
   "metadata": {},
   "outputs": [],
   "source": [
    "#See if we have overfitting\n",
    "plt.figure(figsize=(5,5))\n",
    "plt.plot(history1['val_loss'], label='MSE')\n",
    "plt.plot(history1['val_accuracy'], label='Accuracy', linestyle='dashed')\n",
    "#plt.plot(history1['val_loss'], label='Test')\n",
    "#plt.title('Learning curves for test', fontsize = 18)\n",
    "plt.xlabel('Epochs')\n",
    "plt.ylabel('MSE')\n",
    "plt.legend()\n",
    "plt.show()"
   ]
  },
  {
   "cell_type": "code",
   "execution_count": null,
   "metadata": {},
   "outputs": [],
   "source": [
    "mse, accuracy = model1.evaluate(X_test2, y_test2)"
   ]
  },
  {
   "cell_type": "code",
   "execution_count": null,
   "metadata": {},
   "outputs": [],
   "source": [
    "print(\"Accuracy on Test\", accuracy)\n",
    "print(\"MSE on Test\", mse)"
   ]
  },
  {
   "cell_type": "code",
   "execution_count": null,
   "metadata": {},
   "outputs": [],
   "source": [
    "mse_tr, accuracy_tr = model1.evaluate(X_train2, y_train2)"
   ]
  },
  {
   "cell_type": "code",
   "execution_count": null,
   "metadata": {},
   "outputs": [],
   "source": [
    "print(\"Accuracy on Training\", accuracy_tr)\n",
    "print(\"MSE on Training\", mse_tr)"
   ]
  }
 ],
 "metadata": {
  "kernelspec": {
   "display_name": "Python 3.7.4 32-bit",
   "language": "python",
   "name": "python3"
  },
  "language_info": {
   "codemirror_mode": {
    "name": "ipython",
    "version": 3
   },
   "file_extension": ".py",
   "mimetype": "text/x-python",
   "name": "python",
   "nbconvert_exporter": "python",
   "pygments_lexer": "ipython3",
   "version": "3.7.4"
  },
  "vscode": {
   "interpreter": {
    "hash": "43b5c63db261ca5051cb55de1c6286202162451824cb753635f4f1f1c93d73cc"
   }
  }
 },
 "nbformat": 4,
 "nbformat_minor": 4
}
